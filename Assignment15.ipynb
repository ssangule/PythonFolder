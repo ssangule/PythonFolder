{
 "cells": [
  {
   "cell_type": "code",
   "execution_count": null,
   "metadata": {},
   "outputs": [],
   "source": [
    "########################ASSIGNMENT15########################################"
   ]
  },
  {
   "cell_type": "code",
   "execution_count": null,
   "metadata": {},
   "outputs": [],
   "source": [
    "# Write a function reverse() that inputs a number and return the reverse of that number, for example if input is 1293, function should return 3921.\n",
    "\n",
    "def reverse(num):\n",
    "    rev= 0\n",
    "    while(num > 0):\n",
    "        a = num % 10\n",
    "        rev = rev * 10 + a\n",
    "        num = num // 10\n",
    "    print(rev)\n",
    "\n",
    "num = int(input())\n",
    "reverse(num)"
   ]
  },
  {
   "cell_type": "code",
   "execution_count": null,
   "metadata": {},
   "outputs": [],
   "source": [
    "# Using the function reverse() in previous program, make a function is Palindrome() that inputs a number and checks whether it is a palindrome number. A number is palindrome number if it remains same after reversing its digits, for example 949, 82328 are palindrome. \n",
    "\n",
    "def reverse(num):\n",
    "    rev= 0\n",
    "    while(num > 0):\n",
    "        a = num % 10\n",
    "        rev = rev * 10 + a\n",
    "        num = num // 10\n",
    "    palindrome(rev)\n",
    "\n",
    "def palindrome(rev):\n",
    "    if rev==num: print(num, \"Is Palindrome\")\n",
    "    else: print(num, \"Is Not Palindrome Number\")\n",
    "\n",
    "num = int(input())\n",
    "reverse(num)"
   ]
  },
  {
   "cell_type": "code",
   "execution_count": null,
   "metadata": {},
   "outputs": [],
   "source": [
    "# Write a function isprime() which takes a number and returns 1 if the number is prime and 0 otherwise. \n",
    "\n",
    "def isprime(num):\n",
    "    if num <= 1: print(\"Not Valid Number\")\n",
    "    elif num <= 3: print(\"Prime Number\")\n",
    "    elif (num%2==0) or (num%3==0): print(\"Not Prime Number\")\n",
    "    else: \n",
    "        i = 4\n",
    "        while i <= math.sqrt(num):\n",
    "            if num%i==0:\n",
    "                print(\"Not Prime Number\")\n",
    "                break\n",
    "            i+=1\n",
    "        else: print(\"Prime Number\") \n",
    "\n",
    "import math\n",
    "num = int(input())\n",
    "isprime(num)"
   ]
  },
  {
   "cell_type": "code",
   "execution_count": null,
   "metadata": {},
   "outputs": [],
   "source": [
    "# Write a function that inputs two numbers and prints all prime numbers between those numbers. \n",
    "# \n",
    "def isprime(num1, num2):\n",
    "    while num1 <= num2:\n",
    "        if num1 <= 1: pass\n",
    "        elif num1 <= 3: print(num1, \"Prime Number\")\n",
    "        elif (num1%2==0) or (num1%3==0): pass\n",
    "        else: \n",
    "            i = 4\n",
    "            while i <= math.sqrt(num1):\n",
    "                if num1%i==0:\n",
    "                    break\n",
    "                i+=1\n",
    "            else: print(num1, \"Prime Number\") \n",
    "        num1+=1\n",
    "\n",
    "import math\n",
    "num1 = int(input())\n",
    "num2 = int(input())\n",
    "isprime(num1,num2)"
   ]
  },
  {
   "cell_type": "code",
   "execution_count": null,
   "metadata": {},
   "outputs": [],
   "source": [
    "# Write a program to raise a floating point number to an integer power(eg. an where a is floating point number and n is an integer value.)  \n",
    "\n",
    "def power(i,j):\n",
    "    num = 1\n",
    "    while j > 0:\n",
    "        num = num*i\n",
    "        j-=1\n",
    "    print(num)\n",
    "\n",
    "i = float(input(\"Base: \"))\n",
    "j = int(input(\"Power: \"))\n",
    "power(i,j)"
   ]
  }
 ],
 "metadata": {
  "interpreter": {
   "hash": "f23faf4bfe871c203c8bec80520af5927fc7cb1ae3bd834ddf554ee587ad1c05"
  },
  "kernelspec": {
   "display_name": "Python 3.8.7 64-bit",
   "language": "python",
   "name": "python3"
  },
  "language_info": {
   "codemirror_mode": {
    "name": "ipython",
    "version": 3
   },
   "file_extension": ".py",
   "mimetype": "text/x-python",
   "name": "python",
   "nbconvert_exporter": "python",
   "pygments_lexer": "ipython3",
   "version": "3.8.7"
  },
  "orig_nbformat": 4
 },
 "nbformat": 4,
 "nbformat_minor": 2
}
