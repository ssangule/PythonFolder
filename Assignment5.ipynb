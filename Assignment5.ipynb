{
 "cells": [
  {
   "cell_type": "code",
   "execution_count": null,
   "metadata": {},
   "outputs": [],
   "source": [
    "########################ASSIGNMENT5########################################"
   ]
  },
  {
   "cell_type": "code",
   "execution_count": null,
   "metadata": {},
   "outputs": [],
   "source": [
    "print(\"Q1. What Is Shallow Copy And Deep Copy?\")\n",
    "print(\"Ans. The difference between shallow and deep copying is only relevant for compound objects (objects that contain other objects, like lists or class instances)...A shallow copy constructs a new compound object and then (to the extent possible) inserts references into it to the objects found in the original.. A deep copy constructs a new compound object and then, recursively, inserts copies into it of the objects found in the original.\")"
   ]
  },
  {
   "cell_type": "code",
   "execution_count": null,
   "metadata": {},
   "outputs": [],
   "source": [
    "print(\"Q2. What Is Difference Between An Expression and Statement\")\n",
    "print(\"Ans. A statement does something. Statements represent an action or command e.g print statements, assignment statements. Expression is a combination of variables, operations and values that yields a result value. ... If you ask Python to print an expression, the interpreter evaluates the expression and displays the result.\")"
   ]
  },
  {
   "cell_type": "code",
   "execution_count": null,
   "metadata": {},
   "outputs": [],
   "source": [
    "print(\"Question -- Create Project Library Management System\")"
   ]
  },
  {
   "cell_type": "code",
   "execution_count": null,
   "metadata": {},
   "outputs": [],
   "source": [
    "print(\"Q4. Define following Atomic data types / Primary data types && Secondary data type / User Defined Data Type\")\n",
    "print(\"Ans. The primitive data type is a fundamental data type that cannot be broken down further into simple data types. For example, an integer is a primitive data type and the array is not a primitive data type as it can store multiple data types...Secondary data types are basically derived from the primary data types. Let’s have a look at a few secondary data types: Arrays And Pointers\")"
   ]
  },
  {
   "cell_type": "code",
   "execution_count": null,
   "metadata": {},
   "outputs": [],
   "source": [
    "print(\"Q5. What is UDF?\")\n",
    "print(\"Ans. A user-defined function (UDF) is a function provided by the user of a program or environment, in a context where the usual assumption is that functions are built into the program or environment. UDFs are usually written for the requirement of its creator.\")"
   ]
  }
 ],
 "metadata": {
  "interpreter": {
   "hash": "f23faf4bfe871c203c8bec80520af5927fc7cb1ae3bd834ddf554ee587ad1c05"
  },
  "kernelspec": {
   "display_name": "Python 3.8.7 64-bit",
   "language": "python",
   "name": "python3"
  },
  "language_info": {
   "codemirror_mode": {
    "name": "ipython",
    "version": 3
   },
   "file_extension": ".py",
   "mimetype": "text/x-python",
   "name": "python",
   "nbconvert_exporter": "python",
   "pygments_lexer": "ipython3",
   "version": "3.8.7"
  },
  "orig_nbformat": 4
 },
 "nbformat": 4,
 "nbformat_minor": 2
}
