{
 "cells": [
  {
   "cell_type": "code",
   "execution_count": null,
   "metadata": {},
   "outputs": [],
   "source": [
    "# RECURSION = when A Function Calls Itself..."
   ]
  },
  {
   "cell_type": "code",
   "execution_count": null,
   "metadata": {},
   "outputs": [],
   "source": [
    "def hello():\n",
    "    print('hello guys')\n",
    "    \n",
    "def welcome():\n",
    "    hello()\n",
    "    print('welcome to python')\n",
    "    \n",
    "welcome()"
   ]
  },
  {
   "cell_type": "code",
   "execution_count": null,
   "metadata": {},
   "outputs": [],
   "source": [
    "c = 0\n",
    "def hello():\n",
    "    global c\n",
    "    c += 1\n",
    "    x = 5\n",
    "    hello()\n",
    "hello()"
   ]
  },
  {
   "cell_type": "code",
   "execution_count": null,
   "metadata": {},
   "outputs": [],
   "source": [
    "import sys\n",
    "print(sys.getrecursionlimit())\n",
    "sys.setrecursionlimit(6000)\n",
    "print(sys.getrecursionlimit())"
   ]
  },
  {
   "cell_type": "code",
   "execution_count": null,
   "metadata": {},
   "outputs": [],
   "source": [
    "def func(x):\n",
    "    if x:\n",
    "        func(x-1)\n",
    "        print(x)\n",
    "func(5)"
   ]
  },
  {
   "cell_type": "code",
   "execution_count": null,
   "metadata": {},
   "outputs": [],
   "source": [
    "def func(num, c=1):\n",
    "    if c != 11:\n",
    "        print(num*c)\n",
    "        func(num,c+1)\n",
    "func(5)"
   ]
  },
  {
   "cell_type": "code",
   "execution_count": null,
   "metadata": {},
   "outputs": [],
   "source": [
    "def func(x):\n",
    "    if x > 1:\n",
    "        return func(x-1)+x\n",
    "    return 1\n",
    "ans = func(5)\n",
    "print(ans)"
   ]
  },
  {
   "cell_type": "code",
   "execution_count": null,
   "metadata": {},
   "outputs": [],
   "source": [
    "def fact(num):\n",
    "    if num == 0:\n",
    "        return 1\n",
    "    return num*fact(num-1)\n",
    "fact(5)"
   ]
  },
  {
   "cell_type": "code",
   "execution_count": null,
   "metadata": {},
   "outputs": [],
   "source": [
    "def fact(num):\n",
    "    if num:\n",
    "        return num*fact(num-1)\n",
    "    return 1\n",
    "fact(5)"
   ]
  },
  {
   "cell_type": "code",
   "execution_count": null,
   "metadata": {},
   "outputs": [],
   "source": [
    "def fib(n):\n",
    "    if n == 1:\n",
    "        return 0\n",
    "    if n == 2:\n",
    "        return 1\n",
    "    return fib(n-1) + fib(n-2)\n",
    "fib(8)"
   ]
  },
  {
   "cell_type": "code",
   "execution_count": 12,
   "metadata": {},
   "outputs": [
    {
     "name": "stdout",
     "output_type": "stream",
     "text": [
      "Prime Number\n"
     ]
    }
   ],
   "source": [
    "import math\n",
    "\n",
    "def isPrime(n):\n",
    "    if(n < 2): return False \n",
    "    if(n==2 or n==3): return True\n",
    "    elif((n % 2 == 0) or (n % 3 == 0)): return False\n",
    "    for i in range(4, int(math.sqrt(n))+1):\n",
    "        if n%i==0: \n",
    "            return False\n",
    "            break\n",
    "    else: return True\n",
    "\n",
    "n = int(input())\n",
    "if (isPrime(n)):\n",
    "\tprint(\"Prime Number\")\n",
    "else:\n",
    "\tprint(\"Not Prime Number\")"
   ]
  },
  {
   "cell_type": "code",
   "execution_count": null,
   "metadata": {},
   "outputs": [],
   "source": [
    "check = 2\n",
    "def prime(num):\n",
    "    global check\n",
    "    if check > math.sqrt(num):\n",
    "        return True\n",
    "    if num % check == 0:\n",
    "        return False\n",
    "    check += 1\n",
    "    return prime(num)"
   ]
  },
  {
   "cell_type": "code",
   "execution_count": null,
   "metadata": {},
   "outputs": [],
   "source": [
    "def prime(num, check = 2):\n",
    "    if check > math.sqrt(num)+1:\n",
    "        return True\n",
    "    if num % check == 0:\n",
    "        return False\n",
    "    return prime(num, check+1)\n",
    "prime(3697)"
   ]
  },
  {
   "cell_type": "code",
   "execution_count": null,
   "metadata": {},
   "outputs": [],
   "source": [
    "def prime(num, check=2):\n",
    "    if num<=1:\n",
    "        return False\n",
    "    if num==2 or num==3:\n",
    "        return True\n",
    "    if check > math.sqrt(num)+1:\n",
    "        return True\n",
    "    if num % check == 0:\n",
    "        return False\n",
    "    return prime(num, check+1)\n",
    "prime(3697)"
   ]
  },
  {
   "cell_type": "code",
   "execution_count": null,
   "metadata": {},
   "outputs": [],
   "source": [
    "def prime(num, check=3):\n",
    "    if num<=1:\n",
    "        return False\n",
    "    if num==2 or num==3:\n",
    "        return True\n",
    "    if num % 2 == 0:\n",
    "        return False\n",
    "    if check > math.sqrt(num)+1:\n",
    "        return True\n",
    "    if num % check == 0:\n",
    "        return False\n",
    "    return prime(num, check+2)\n",
    "prime(3697)"
   ]
  },
  {
   "cell_type": "code",
   "execution_count": null,
   "metadata": {},
   "outputs": [],
   "source": [
    "num = int(input(\"Enter a number: \"))   \n",
    "if num < 0:  \n",
    "   print(\"Enter a positive number\")  \n",
    "else:  \n",
    "   sum = 0  \n",
    "   while(num > 0):  \n",
    "       sum += num  \n",
    "       num -= 1  \n",
    "   print(\"The sum is\",sum)  "
   ]
  },
  {
   "cell_type": "code",
   "execution_count": null,
   "metadata": {},
   "outputs": [],
   "source": [
    "def sum(n):\n",
    "   if n <= 1:\n",
    "       return n\n",
    "   else:\n",
    "       return n + sum(n-1)\n",
    "\n",
    "num = int(input(\"Enter numbers For Sum: \"))\n",
    "if num < 0:\n",
    "   print(\"Enter a positive number\")\n",
    "else:\n",
    "   print(\"The sum is\",sum(num))"
   ]
  },
  {
   "cell_type": "code",
   "execution_count": null,
   "metadata": {},
   "outputs": [],
   "source": [
    "# 2,4,6,8,10,12,14,16,18,20\n",
    "\n",
    "def table(num, c=1):\n",
    "    if c <= 10:\n",
    "        print(num*c)\n",
    "        table(num, c+1)\n",
    "table(5)"
   ]
  },
  {
   "cell_type": "code",
   "execution_count": null,
   "metadata": {},
   "outputs": [],
   "source": [
    "def table(num,start):\n",
    "    if num <= start*10:\n",
    "        print(num)\n",
    "        table(num+num, start)\n",
    "table(5,9)"
   ]
  },
  {
   "cell_type": "code",
   "execution_count": null,
   "metadata": {},
   "outputs": [],
   "source": [
    "def pattern(num):\n",
    "    if num:\n",
    "        print(\"*\"*num)\n",
    "        pattern(num-1)\n",
    "pattern(5)"
   ]
  },
  {
   "cell_type": "code",
   "execution_count": null,
   "metadata": {},
   "outputs": [],
   "source": [
    "def pattern(num):\n",
    "    if num:\n",
    "        pattern(num-1)\n",
    "        print(\"*\"*num)\n",
    "pattern(5)"
   ]
  },
  {
   "cell_type": "code",
   "execution_count": null,
   "metadata": {},
   "outputs": [],
   "source": [
    "def pattern(num, width):\n",
    "    if num:\n",
    "        pattern(num-1, width)\n",
    "        print((\"*\"*num).rjust(width))\n",
    "pattern(10, 10)"
   ]
  }
 ],
 "metadata": {
  "interpreter": {
   "hash": "f23faf4bfe871c203c8bec80520af5927fc7cb1ae3bd834ddf554ee587ad1c05"
  },
  "kernelspec": {
   "display_name": "Python 3.8.7 64-bit",
   "language": "python",
   "name": "python3"
  },
  "language_info": {
   "codemirror_mode": {
    "name": "ipython",
    "version": 3
   },
   "file_extension": ".py",
   "mimetype": "text/x-python",
   "name": "python",
   "nbconvert_exporter": "python",
   "pygments_lexer": "ipython3",
   "version": "3.8.7"
  },
  "orig_nbformat": 4
 },
 "nbformat": 4,
 "nbformat_minor": 2
}
