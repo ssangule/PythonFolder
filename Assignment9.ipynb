{
 "cells": [
  {
   "cell_type": "code",
   "execution_count": null,
   "metadata": {},
   "outputs": [],
   "source": [
    "########################ASSIGNMENT9########################################"
   ]
  },
  {
   "cell_type": "code",
   "execution_count": null,
   "metadata": {},
   "outputs": [],
   "source": [
    "# Write a Python program to, check whether a number is negative, positive or zero. \n",
    "\n",
    "number = int(input())\n",
    "\n",
    "if number == 0: print(\"Zero\")\n",
    "if number > 0: print(\"Positive\")\n",
    "if number < 0: print(\"Negative\")"
   ]
  },
  {
   "cell_type": "code",
   "execution_count": null,
   "metadata": {},
   "outputs": [],
   "source": [
    "# Write a Python Program to check a number is divisible by 5 and 11\n",
    "\n",
    "number = int(input())\n",
    "if ((number%5==0) and (number%11==0)): print(\"Divisible By 5 and 11\")"
   ]
  },
  {
   "cell_type": "code",
   "execution_count": null,
   "metadata": {},
   "outputs": [],
   "source": [
    "# Write a Python program to check whether a year is leap year or not. \n",
    "\n",
    "year = int(input(\"Enter a year: \"))\n",
    "\n",
    "if (year % 4) == 0:\n",
    "   if (year % 100) == 0:\n",
    "       if (year % 400) == 0:\n",
    "           print(f\"{year} ,is a leap year\")\n",
    "       else:\n",
    "           print(f\"{year} ,is not a leap year\")\n",
    "   else:\n",
    "       print(f\"{year} ,is a leap year\")\n",
    "else:\n",
    "   print(f\"{year} ,is not a leap year\")"
   ]
  },
  {
   "cell_type": "code",
   "execution_count": null,
   "metadata": {},
   "outputs": [],
   "source": [
    "# Write a python program to check whether a character is alphabet or not. \n",
    "\n",
    "ch = input(\"Enter any character: \")\n",
    "if((ch>='a' and ch<= 'z') or (ch>='A' and ch<='Z')):\n",
    "    print(ch, \"is an Alphabet.\")\n",
    "else:\n",
    "    print(ch, \"is not an Alphabet.\")"
   ]
  },
  {
   "cell_type": "code",
   "execution_count": null,
   "metadata": {},
   "outputs": [],
   "source": [
    "# Write a Python program to check any alphabet  is vowel or consonant. \n",
    "\n",
    "ch = input(\"Enter any character: \")\n",
    "if ch in 'aeiou': print(\"Vowel\")\n",
    "else: print(\"Consonent\")"
   ]
  },
  {
   "cell_type": "code",
   "execution_count": null,
   "metadata": {},
   "outputs": [],
   "source": [
    "# Write a Python program to check whether a character is alphabet, digit or special character. \n",
    "\n",
    "ch = input(\"Enter any digit: \")\n",
    "if((ch>='a' and ch<= 'z') or (ch>='A' and ch<='Z')):\n",
    "    print(ch, \"is an Alphabet.\")\n",
    "elif (ch>='0' and ch<='9'):\n",
    "    print(ch, \"is an Number.\")\n",
    "else: print(ch, \"is an special symbol\")"
   ]
  },
  {
   "cell_type": "code",
   "execution_count": null,
   "metadata": {},
   "outputs": [],
   "source": [
    "# Write a Python program to check whether a character is uppercase or lowercase alphabet. \n",
    "\n",
    "ch = input(\"Enter any character: \")\n",
    "if (ch>='A' and ch<='Z'): print(\"Uppercase Letter\")\n",
    "if (ch >='a' and ch <='z'):print(\"Lowercase alphabet\")"
   ]
  },
  {
   "cell_type": "code",
   "execution_count": null,
   "metadata": {},
   "outputs": [],
   "source": [
    "# Write a Python program to input week number and print weekday. \n",
    "\n",
    "dict1 = {\n",
    "    1: 'Sunday',\n",
    "    2: 'Monday',\n",
    "    3: 'Tuesday',\n",
    "    4: 'Wednesday',\n",
    "    5: 'Thursday',\n",
    "    6: 'Friday',\n",
    "    7: 'Saturday'\n",
    "}\n",
    "\n",
    "weekno = int(input())\n",
    "print(dict1[weekno])"
   ]
  },
  {
   "cell_type": "code",
   "execution_count": null,
   "metadata": {},
   "outputs": [],
   "source": [
    "# Write a Python program to input angles of a triangle and check whether triangle is valid or not. \n",
    "\n",
    "firstangle = int(input())\n",
    "secondangle = int(input())\n",
    "thirdangle = int(input())\n",
    "if (firstangle+secondangle+thirdangle <= 180): print(\"Valid\")\n",
    "else: print(\"Not Valid\")"
   ]
  },
  {
   "cell_type": "code",
   "execution_count": null,
   "metadata": {},
   "outputs": [],
   "source": [
    "# Write a python program to input the sides of a triangle and check whether triangle is valid or not. \n",
    "\n",
    "def is_valid_triangle(a,b,c):\n",
    "    if a+b>=c and b+c>=a and c+a>=b:\n",
    "        return \"Valid\"\n",
    "    else:\n",
    "        return \"Not Valid\"\n",
    "x = int(input())\n",
    "y = int(input())\n",
    "z = int(input())\n",
    "is_valid_triangle(x,y,z)"
   ]
  },
  {
   "cell_type": "code",
   "execution_count": null,
   "metadata": {},
   "outputs": [],
   "source": [
    "# Write a Python program to check whether the triangle is equilateral, isosceles or scalene triangle. \n",
    "\n",
    "print(\"Input lengths of the triangle sides: \")\n",
    "x = int(input(\"x: \"))\n",
    "y = int(input(\"y: \"))\n",
    "z = int(input(\"z: \"))\n",
    "\n",
    "if x == y == z:\n",
    "\tprint(\"Equilateral triangle\")\n",
    "elif x==y or y==z or z==x:\n",
    "\tprint(\"isosceles triangle\")\n",
    "else:\n",
    "\tprint(\"Scalene triangle\")"
   ]
  },
  {
   "cell_type": "code",
   "execution_count": null,
   "metadata": {},
   "outputs": [],
   "source": [
    "# Write a Python program to input marks of five subjects Physics, Chemistry, Biology, Mathematics and Computer. Calculate percentage and grade according to following:  \n",
    "\n",
    "a,b,c,d,e = map(int,input().split())\n",
    "avg = (a+b+c+d+e)/5\n",
    "percentage = avg*100\n",
    "print(percentage)"
   ]
  },
  {
   "cell_type": "code",
   "execution_count": null,
   "metadata": {},
   "outputs": [],
   "source": [
    "# Write a Python program to input basic salary of an employee and calculate its Gross salary according to following:  \n",
    "# Basic Salary <= 10000 : HRA = 20%, DA = 80%  \n",
    "# Basic Salary <= 20000 : HRA = 25%, DA = 90%  \n",
    "# Basic Salary > 20000 : HRA = 30%, DA = 95% \n",
    "\n",
    "salary = int(input())\n",
    "if salary <= 10000: \n",
    "    HRA = (20*salary)/100\n",
    "    DA = (80*salary)/100\n",
    "elif salary <= 20000:\n",
    "    HRA = (20*10000)/100 + ((salary-10000)*25)/100\n",
    "    DA = (80*10000)/100 + ((salary-10000)*90)/100\n",
    "elif salary > 20000:\n",
    "    HRA = (20*10000)/100 + (25*10000)/100 + ((salary-20000)*30)/100\n",
    "    DA =  (80*10000)/100 + (90*10000)/100 +  ((salary-20000)*95)/100\n",
    "    \n",
    "print(HRA, DA)\n"
   ]
  },
  {
   "cell_type": "code",
   "execution_count": null,
   "metadata": {},
   "outputs": [],
   "source": [
    "units = int(input(\"Units: \"))\n",
    "\n",
    "if units <= 50: charge = units * 0.5\n",
    "elif units <= 150: charge = (50 * 0.5) + (units - 50) * 0.75\n",
    "elif units <= 250: charge = (50 * 0.5) + (100 * 0.75) + (units - 150) * 1.20\n",
    "else: charge =  (50 * 0.5) + (100 * 0.75) + (100 * 1.20) + (units - 250) * 1.50\n",
    "\n",
    "bill = charge * 1.20\n",
    "print(\"Electricity Bill Is = \", bill)"
   ]
  }
 ],
 "metadata": {
  "interpreter": {
   "hash": "f23faf4bfe871c203c8bec80520af5927fc7cb1ae3bd834ddf554ee587ad1c05"
  },
  "kernelspec": {
   "display_name": "Python 3.8.7 64-bit",
   "language": "python",
   "name": "python3"
  },
  "language_info": {
   "codemirror_mode": {
    "name": "ipython",
    "version": 3
   },
   "file_extension": ".py",
   "mimetype": "text/x-python",
   "name": "python",
   "nbconvert_exporter": "python",
   "pygments_lexer": "ipython3",
   "version": "3.8.7"
  },
  "orig_nbformat": 4
 },
 "nbformat": 4,
 "nbformat_minor": 2
}
