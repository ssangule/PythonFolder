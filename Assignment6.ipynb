{
 "cells": [
  {
   "cell_type": "code",
   "execution_count": null,
   "metadata": {},
   "outputs": [],
   "source": [
    "########################ASSIGNMENT6########################################"
   ]
  },
  {
   "cell_type": "code",
   "execution_count": null,
   "metadata": {},
   "outputs": [],
   "source": [
    "print(\"Q1. Write down 10 projects ideas you want to implement using python\")\n",
    "print(\"Ans. List of some more python projects to try out: Weight Converter with GUI using Tkinter...Send custom emails with Python...Unique password generator GUI...Text to speech with python...Scraping data from Twitter...Rock paper scissors Python game...Alarm Clock with GUI...Youtube Video downloader.\")"
   ]
  },
  {
   "cell_type": "code",
   "execution_count": null,
   "metadata": {},
   "outputs": [],
   "source": [
    "print(\"What is duck typing in python, what are Dunder or special methods?\")\n",
    "print(\"Ans. Duck typing is a concept related to dynamic typing, where the type or the class of an object is less important than the methods it defines. When you use duck typing, you do not check types at all. Instead, you check for the presence of a given method or attribute...Dunder or magic methods in Python are the methods having two prefix and suffix underscores in the method name. Dunder here means “Double Under (Underscores)”. These are commonly used for operator overloading... These methods are the reason we can add two strings with '+' operator without any explicit typecasting.\")"
   ]
  }
 ],
 "metadata": {
  "language_info": {
   "name": "python"
  },
  "orig_nbformat": 4
 },
 "nbformat": 4,
 "nbformat_minor": 2
}
