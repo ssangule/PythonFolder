{
 "cells": [
  {
   "cell_type": "code",
   "execution_count": null,
   "metadata": {},
   "outputs": [],
   "source": [
    "# what will be output of this code ? \n",
    "\n",
    "x = 10 \n",
    "def func(): \n",
    "    print(f\"Inside value of x is {x**2}\") # 100\n",
    "    return x**2 \n",
    "print(\"Before x is : \", x)                # 10\n",
    "x = func() \n",
    "print(\"After x is : \", x)                 # 100"
   ]
  },
  {
   "cell_type": "code",
   "execution_count": null,
   "metadata": {},
   "outputs": [],
   "source": [
    "# what will be output of this code ? \n",
    "\n",
    "x = 5 \n",
    "def func(data): \n",
    "    data = x ** 2                                        \n",
    "    print(f\"Inside function value of x is {x}\")          # 5\n",
    "    print(f\"Inside function value of data is {data}\")    # 25\n",
    "print(\"Before value of x is : \", x)                      # 5\n",
    "func(x) \n",
    "print(\"After value of x is : \", x)                       # 5"
   ]
  },
  {
   "cell_type": "code",
   "execution_count": null,
   "metadata": {},
   "outputs": [],
   "source": [
    "# what will be output of this code ? \n",
    "\n",
    "x = 5 \n",
    "def func(x): \n",
    "       print(f\"Inside function value of x is {x**2}\") # 25\n",
    "print(\"Before value of x is : \", x)                   # 5\n",
    "func(x) \n",
    "print(\"After value of x is : \", x)                    # 5"
   ]
  },
  {
   "cell_type": "code",
   "execution_count": null,
   "metadata": {},
   "outputs": [],
   "source": [
    "# what will be output of this code ? \n",
    "\n",
    "x = 5 \n",
    "def func(x): \n",
    "        x = x **2 \n",
    "        print(f\"Inside function value of x is {x, id(x)}\") # 25\n",
    "print(\"Before value of x is : \", x, id(x))                 # 5\n",
    "func(x) \n",
    "print(\"After value of x is : \", x, id(x))                         # 25"
   ]
  },
  {
   "cell_type": "code",
   "execution_count": null,
   "metadata": {},
   "outputs": [],
   "source": [
    "def batsman(p):\n",
    "    points = 0\n",
    "    points += p['4']*1\n",
    "    points += p['6']*2\n",
    "    points += p['field']*10\n",
    "    strike_rate = (p['runs']/p['balls'])*100\n",
    "    if p['runs'] >= 2: points+=1\n",
    "    if p['runs'] >= 50: points+=5\n",
    "    if p['runs'] >= 100: points+=10\n",
    "    if 80 < strike_rate < 100: points+=2\n",
    "    if strike_rate > 100: points+=4\n",
    "    print(f\"{p['name']}: {points}\")\n",
    "\n",
    "def bowler(p):\n",
    "    points = 0\n",
    "    points+= p['wkts']*10\n",
    "    points += p['field']*10\n",
    "    economy_rate = p['runs']/p['overs']\n",
    "    if p['wkts'] >= 3: points+=5\n",
    "    if p['wkts'] >= 5: points+=10\n",
    "    if 3.5 < economy_rate <= 4.5: points+=4\n",
    "    if 2 < economy_rate <= 3.5: points+=7\n",
    "    if economy_rate <= 2: points+=10\n",
    "    print(f\"{p['name']}: {points}\")\n",
    "\n",
    "p1={'name':'Virat Kohli', 'role':'bat', 'runs':112, '4':10, '6':0, \n",
    "'balls':119, 'field':0} \n",
    "p2={'name':'du Plessis', 'role':'bat', 'runs':120, '4':11, '6':2, \n",
    "'balls':112, 'field':0} \n",
    "p3={'name':'Bhuvneshwar Kumar', 'role':'bowl', 'wkts':1, 'overs':10, \n",
    "'runs':71, 'field':1} \n",
    "p4={'name':'Yuzvendra Chahal', 'role':'bowl', 'wkts':2, 'overs':10, \n",
    "'runs':45, 'field':0} \n",
    "p5={'name':'Kuldeep Yadav', 'role':'bowl', 'wkts':3, 'overs':10, 'runs':34, \n",
    "'field':0}\n",
    "\n",
    "batsman(p1)\n",
    "batsman(p2)\n",
    "bowler(p3)\n",
    "bowler(p4)\n",
    "bowler(p5)"
   ]
  }
 ],
 "metadata": {
  "interpreter": {
   "hash": "f23faf4bfe871c203c8bec80520af5927fc7cb1ae3bd834ddf554ee587ad1c05"
  },
  "kernelspec": {
   "display_name": "Python 3.8.7 64-bit",
   "language": "python",
   "name": "python3"
  },
  "language_info": {
   "codemirror_mode": {
    "name": "ipython",
    "version": 3
   },
   "file_extension": ".py",
   "mimetype": "text/x-python",
   "name": "python",
   "nbconvert_exporter": "python",
   "pygments_lexer": "ipython3",
   "version": "3.8.7"
  },
  "orig_nbformat": 4
 },
 "nbformat": 4,
 "nbformat_minor": 2
}
