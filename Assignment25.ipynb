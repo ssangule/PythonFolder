{
 "cells": [
  {
   "cell_type": "code",
   "execution_count": null,
   "metadata": {},
   "outputs": [],
   "source": [
    "# *********************** ASSIGNMENT 25 *************************************"
   ]
  },
  {
   "cell_type": "code",
   "execution_count": null,
   "metadata": {},
   "outputs": [],
   "source": [
    "# Create a Cricle class and intialize it with radius. Make two methods getArea and getCircumference inside this class. \n",
    "\n",
    "class circle:\n",
    "    def __init__(self,radius):\n",
    "        self.radius = radius\n",
    "    def getArea(self):\n",
    "        return (3.14*self.radius*self.radius)\n",
    "    def getCircumference(self):\n",
    "        return (2*3.14*self.radius)\n",
    "        \n",
    "c1 = circle(5)\n",
    "print(c1.getArea())\n",
    "print(c1.getCircumference())"
   ]
  },
  {
   "cell_type": "code",
   "execution_count": null,
   "metadata": {},
   "outputs": [],
   "source": [
    "# Create a Temperature class. Make two methods : \n",
    "# 1. convertFahrenheit - It will take celsius and will print it into Fahrenheit. \n",
    "# 2. convertCelsius - It will take Fahrenheit and will convert it into Celsius. \n",
    "\n",
    "class temperature:\n",
    "    def celtofah(self,temp1):\n",
    "        return (temp1*1.8)+32\n",
    "    def fahtocel(self,temp1):\n",
    "        return (temp1-32)*0.55\n",
    "        \n",
    "t1 = temperature()\n",
    "print(t1.celtofah(6))\n",
    "print(t1.fahtocel(44))"
   ]
  },
  {
   "cell_type": "code",
   "execution_count": null,
   "metadata": {},
   "outputs": [],
   "source": [
    "# Create a Student class and initialize it with name and roll number. Make methods to : \n",
    "# 1. Display - It should display all informations of the student. \n",
    "# 2. setAge - It should assign age to student \n",
    "# 3. setMarks - It should assign marks to the student. \n",
    "\n",
    "class student:\n",
    "    def __init__(self,name,roll_num):\n",
    "        self.name = name\n",
    "        self.roll_num = roll_num\n",
    "    def setAge(self,age):\n",
    "        self.age = age\n",
    "    def setMarks(self,marks):\n",
    "        self.marks = marks\n",
    "    def display(self):\n",
    "        print(self.name, self.roll_num, self.age, self.marks)\n",
    "        \n",
    "s1 = student(\"Rajat\", \"19EARCS090\")\n",
    "s1.setAge(20)\n",
    "s1.setMarks(95)\n",
    "s1.display()"
   ]
  },
  {
   "cell_type": "code",
   "execution_count": null,
   "metadata": {},
   "outputs": [],
   "source": [
    "# Create a Time class and initialize it with hours and minutes. \n",
    "# 1. Make a method addTime which should take two time object and add them. E.g.- (2 hour and 50 min)+(1 hr and 20 min) is (4 hr and 10 min) \n",
    "# 2. Make a method displayTime which should print the time. \n",
    "# 3. Make a method DisplayMinute which should display the total minutes in the Time. E.g.- (1 hr 2 min) should display 62 minute. \n",
    "\n",
    "class time:\n",
    "    def __init__(self,hours,minutes):\n",
    "        self.hours = hours\n",
    "        self.minutes = minutes\n",
    "\n",
    "    def addTime(obj1,obj2):\n",
    "        hours = obj1.hours + obj2.hours\n",
    "        minutes = obj1.minutes + obj2.minutes\n",
    "        if minutes > 60: \n",
    "            hours += 1\n",
    "            minutes = minutes - 60\n",
    "        print(f\"{hours} Hours {minutes} Minutes\")\n",
    "\n",
    "    def displaytime(self):\n",
    "        print(f\"{self.hours} Hours {self.minutes} Minutes\")\n",
    "    def displayMinutes(self):\n",
    "        print(f\"{self.hours * 60+ self.minutes} Minutes\")\n",
    "        \n",
    "t1 = time(2,50)\n",
    "t2 = time(1,20)\n",
    "t3 = time(3,10)\n",
    "time.addTime(t1,t2)\n",
    "t3.displaytime()\n",
    "t3.displayMinutes()"
   ]
  }
 ],
 "metadata": {
  "interpreter": {
   "hash": "f23faf4bfe871c203c8bec80520af5927fc7cb1ae3bd834ddf554ee587ad1c05"
  },
  "kernelspec": {
   "display_name": "Python 3.8.7 64-bit",
   "language": "python",
   "name": "python3"
  },
  "language_info": {
   "codemirror_mode": {
    "name": "ipython",
    "version": 3
   },
   "file_extension": ".py",
   "mimetype": "text/x-python",
   "name": "python",
   "nbconvert_exporter": "python",
   "pygments_lexer": "ipython3",
   "version": "3.8.7"
  },
  "orig_nbformat": 4
 },
 "nbformat": 4,
 "nbformat_minor": 2
}
