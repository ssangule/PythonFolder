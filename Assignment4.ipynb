{
 "cells": [
  {
   "cell_type": "code",
   "execution_count": null,
   "metadata": {},
   "outputs": [],
   "source": [
    "########################ASSIGNMENT4########################################"
   ]
  },
  {
   "cell_type": "code",
   "execution_count": null,
   "metadata": {},
   "outputs": [],
   "source": [
    "print(\"Q1. Create 5 real time list to store some useful information in python eg. Language = [ ‘java’, ‘c’, ‘c++’, ‘ruby’ ]\")\n",
    "lst1 = ['C', 'C++', 'Python', 'Java', 'Go', 'Ruby']\n",
    "lst2 = ['Samsung', 'Oppo', 'Redmi', 'Realme', 'Oneplus']\n",
    "lst3 = ['Sagar', 'Pranav', 'Gunjan', 'Rajat', 'Shubham']\n",
    "lst4 = ['ITC', 'AOA', 'CD', 'CG', 'OS', 'WC']\n",
    "lst5 = ['TCS', 'Infosys', 'Ranbaxy', 'Asian Paints', 'LTI', 'Mindtree', 'Mahindra Tech']"
   ]
  },
  {
   "cell_type": "code",
   "execution_count": null,
   "metadata": {},
   "outputs": [],
   "source": [
    "print(\"Q2. What is difference between mutable and immutable data types in python\")\n",
    "print(\"Ans. To summarise the difference, mutable objects can change their state or contents and immutable objects can't change their state or content. Immutable Objects : These are of in-built types like int, float, bool, string, unicode, tuple. In simple words, an immutable object can't be changed after it is created.\")"
   ]
  },
  {
   "cell_type": "code",
   "execution_count": null,
   "metadata": {},
   "outputs": [],
   "source": [
    "print(\"Q3. What are identifiers, list rules of identifiers in python\")\n",
    "print(\"Ans. An identifier is a name given to an entity”...The Python identifier is made with a combination of lowercase or uppercase letters, digits or an underscore...An identifier cannot start with a digit. If we create an identifier that starts with a digit then we will get a syntax error...We also cannot use special symbols in the identifiers name...A keyword cannot be used as an identifier. In Python, keywords are the reserved names that are built-in in Python. They have a special meaning and we cannot use them as identifier names...The length of the identifiers can be as long as you want. Of course, it can not be greater than the available memory, however, the PEP-8 standards rule suggests not to exceed 79 characters in a line.\")"
   ]
  }
 ],
 "metadata": {
  "language_info": {
   "name": "python"
  },
  "orig_nbformat": 4
 },
 "nbformat": 4,
 "nbformat_minor": 2
}
