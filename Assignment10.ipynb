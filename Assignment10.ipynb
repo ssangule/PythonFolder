{
 "cells": [
  {
   "cell_type": "code",
   "execution_count": null,
   "metadata": {},
   "outputs": [],
   "source": [
    "########################ASSIGNMENT10########################################"
   ]
  },
  {
   "cell_type": "code",
   "execution_count": null,
   "metadata": {},
   "outputs": [],
   "source": [
    "# NUMBER IS PALINDROME OR NOT\n",
    "\n",
    "number = (input(\"Enter The Number: \"))\n",
    "number1 = number[::-1]\n",
    "\n",
    "i = 0\n",
    "while i < len(number):\n",
    "    if number1[i] == number[i]: flag = 1\n",
    "    else: flag = 0\n",
    "    i+=1\n",
    "if flag == 1: print(\"Number Is Palindrome\")\n",
    "else: print(\"Number Is Not Palindrome\")"
   ]
  },
  {
   "cell_type": "code",
   "execution_count": null,
   "metadata": {},
   "outputs": [],
   "source": [
    "# NUMBER IS FACTORIAL OR NOT\n",
    "\n",
    "number = int(input(\"Enter The Number: \"))\n",
    "\n",
    "i = 2\n",
    "factorial = 1\n",
    "while i <= number:\n",
    "    factorial = factorial * i\n",
    "    i+=1\n",
    "print(f\"The Factorial of {number} is {factorial}\")"
   ]
  },
  {
   "cell_type": "code",
   "execution_count": null,
   "metadata": {},
   "outputs": [],
   "source": [
    "# PROGRAM OF FIBONACCI SERIES\n",
    "\n",
    "terms = int(input(\"Enter the value of terms: \"))\n",
    "a = 0 \n",
    "b = 1\n",
    "sum = 0\n",
    "\n",
    "print(\"Fibonacci Series: \", end = \" \")\n",
    "i = 1\n",
    "while(i <= terms):\n",
    "  print(sum, end = \" \")\n",
    "  a = b\n",
    "  b = sum\n",
    "  sum = a + b\n",
    "  i += 1"
   ]
  },
  {
   "cell_type": "code",
   "execution_count": null,
   "metadata": {},
   "outputs": [],
   "source": [
    "# NUMBER IS ARMSTRONG OR NOT\n",
    "\n",
    "s = input(\"Enter a number: \")\n",
    "number = int(s)\n",
    "\n",
    "sum = 0\n",
    "temp = number\n",
    "while temp > 0:\n",
    "   digit = temp % 10\n",
    "   sum += digit ** len(s)\n",
    "   temp //= 10\n",
    "\n",
    "if number == sum:\n",
    "   print(number,\"is an Armstrong number\")\n",
    "else:\n",
    "   print(number,\"is not an Armstrong number\")"
   ]
  },
  {
   "cell_type": "code",
   "execution_count": null,
   "metadata": {},
   "outputs": [],
   "source": [
    "# PROGRAM TO PRINT MULTIPLES OF 3 AND 5 IN INTERVAL\n",
    "\n",
    "from pprint import pprint\n",
    "\n",
    "firstNo = int(input(\"Enter First Number: \"))\n",
    "secondNo = int(input(\"Enter Second Number: \"))\n",
    "\n",
    "print(f\"Multiples of 3 Between {firstNo} and {secondNo} are : \")\n",
    "i = firstNo\n",
    "while i <= secondNo:\n",
    "    if i%3 == 0: print(i, end=\" \")\n",
    "    i+=1\n",
    "\n",
    "print(f\"Multiples of 5 Between {firstNo} and {secondNo} are : \")\n",
    "i = firstNo\n",
    "while i <= secondNo:\n",
    "    if i%5 == 0: print(i, end=\" \")\n",
    "    i+=1"
   ]
  }
 ],
 "metadata": {
  "interpreter": {
   "hash": "f23faf4bfe871c203c8bec80520af5927fc7cb1ae3bd834ddf554ee587ad1c05"
  },
  "kernelspec": {
   "display_name": "Python 3.8.7 64-bit",
   "language": "python",
   "name": "python3"
  },
  "language_info": {
   "codemirror_mode": {
    "name": "ipython",
    "version": 3
   },
   "file_extension": ".py",
   "mimetype": "text/x-python",
   "name": "python",
   "nbconvert_exporter": "python",
   "pygments_lexer": "ipython3",
   "version": "3.8.7"
  },
  "orig_nbformat": 4
 },
 "nbformat": 4,
 "nbformat_minor": 2
}
