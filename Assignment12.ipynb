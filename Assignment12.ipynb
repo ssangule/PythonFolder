{
 "cells": [
  {
   "cell_type": "code",
   "execution_count": null,
   "metadata": {},
   "outputs": [],
   "source": [
    "########################ASSIGNMENT12########################################"
   ]
  },
  {
   "cell_type": "code",
   "execution_count": null,
   "metadata": {},
   "outputs": [],
   "source": [
    "import random\n",
    "\n",
    "start = int(input(\"Enter Starting Number: \"))\n",
    "end = int(input(\"Ender Ending Number: \"))\n",
    "\n",
    "num = random.randint(start, end)\n",
    "chances = 5\n",
    "count = 0\n",
    "\n",
    "while count < chances:\n",
    "    count+=1\n",
    "    guess = int(input(\"Guess A Number: \"))\n",
    "\n",
    "    if (guess > end) or (guess < start): \n",
    "        print(f\"Please Guess Number Between {start} To {end}...{chances-count} Try Left..\")\n",
    "    elif num == guess: \n",
    "        print(f\"Yeahh!!!...You Find Your Secret Number {num} In {count} Try..\") \n",
    "        break\n",
    "    elif count >= chances:\n",
    "        print(f\"OOPS!!!...YOU LOST\\nYOUR SECRET NUMBER IS {num}\")\n",
    "        print(\"BETTER LUCK NEXT TIME...\")\n",
    "    elif guess > num: \n",
    "        print(f\"Ohhh!!!...Your Number Is Too High.. {chances-count} Try Left..\")\n",
    "    elif guess < num: \n",
    "        print(f\"Ohhh!!!...Your Number Is Too Low...{chances-count} Try Left...\")"
   ]
  },
  {
   "cell_type": "code",
   "execution_count": null,
   "metadata": {},
   "outputs": [],
   "source": [
    "import random\n",
    "\n",
    "start = int(input(\"Enter Starting Number: \"))\n",
    "end = int(input(\"Ender Ending Number: \"))\n",
    "\n",
    "num = random.randint(start, end)\n",
    "count = 0\n",
    "chances = (start+end)//2\n",
    "print(f\"YOU HAVE {chances} CHANCES TO GUESS THE SECRET NUMBER\")\n",
    "\n",
    "while count < chances:\n",
    "    count+=1\n",
    "    guess = int(input(\"Guess A Number: \"))\n",
    "\n",
    "    if (guess > end) or (guess < start): \n",
    "        print(f\"Please Guess Number Between {start} To {end}...{chances-count} Try Left..\")\n",
    "    elif num == guess: \n",
    "        print(f\"Yeahh!!!...You Find Your Secret Number {num} In {count} Try..\") \n",
    "        break\n",
    "    # elif count >= chances:\n",
    "    #     print(f\"OOPS!!!...YOU LOST\\nYOUR SECRET NUMBER IS {num}\")\n",
    "    #     print(\"BETTER LUCK NEXT TIME...\")\n",
    "    elif guess > num: \n",
    "        print(f\"Ohhh!!!...Your Number Is Too High.. {chances-count} Try Left..\")\n",
    "    elif guess < num: \n",
    "        print(f\"Ohhh!!!...Your Number Is Too Low...{chances-count} Try Left...\")\n",
    "else:\n",
    "    print(\"OOPS YOU LOST!!!\")"
   ]
  },
  {
   "cell_type": "code",
   "execution_count": null,
   "metadata": {},
   "outputs": [],
   "source": [
    "import random\n",
    "\n",
    "s = int(input())\n",
    "e = int(input())\n",
    "\n",
    "n = random.randint(s,e)\n",
    "count = 0\n",
    "chances = (s+e)//2\n",
    "print(f\"{chances} CHANCES\")\n",
    "\n",
    "while count < chances:\n",
    "    count+=1\n",
    "    g = int(input())\n",
    "\n",
    "    if (g>e) or (g<s): \n",
    "        print(f\"Guess Between {s} To {e}\")\n",
    "        continue\n",
    "    elif n == g: \n",
    "        print(f\"Yeahh!!!...You Guessed\") \n",
    "        break\n",
    "    elif count >= chances: print(\"BETTER LUCK NEXT TIME...\")\n",
    "    elif g > n: print(f\"Guess Is Too High...\")\n",
    "    elif g < n: print(f\"Guess Is Too Low..\")"
   ]
  },
  {
   "cell_type": "code",
   "execution_count": null,
   "metadata": {},
   "outputs": [],
   "source": [
    "from random import randint\n",
    "\n",
    "t = [\"Rock\", \"Paper\", \"Scissors\"]\n",
    "computer = t[randint(0,2)]\n",
    "\n",
    "player = False\n",
    "\n",
    "while player == False:\n",
    "    player = input(\"Rock, Paper, Scissors?\")\n",
    "    if player == computer:\n",
    "        print(\"Tie!\")\n",
    "    elif player == \"Rock\":\n",
    "        if computer == \"Paper\":\n",
    "            print(\"You lose!\", computer, \"covers\", player)\n",
    "        else:\n",
    "            print(\"You win!\", player, \"smashes\", computer)\n",
    "    elif player == \"Paper\":\n",
    "        if computer == \"Scissors\":\n",
    "            print(\"You lose!\", computer, \"cut\", player)\n",
    "        else:\n",
    "            print(\"You win!\", player, \"covers\", computer)\n",
    "    elif player == \"Scissors\":\n",
    "        if computer == \"Rock\":\n",
    "            print(\"You lose...\", computer, \"smashes\", player)\n",
    "        else:\n",
    "            print(\"You win!\", player, \"cut\", computer)\n",
    "    else:\n",
    "        print(\"That's not a valid play. Check your spelling!\")\n",
    "    player = False\n",
    "    computer = t[randint(0,2)]"
   ]
  },
  {
   "cell_type": "code",
   "execution_count": null,
   "metadata": {},
   "outputs": [],
   "source": [
    "lst = []\n",
    "\n",
    "lst.insert(0, 5)\n",
    "lst.insert(1, 10)\n",
    "lst.insert(0, 6)\n",
    "print(lst)\n",
    "lst.remove(6)\n",
    "lst.append(9)\n",
    "lst.append(1)\n",
    "lst.sort()\n",
    "print(lst)\n",
    "lst.pop()\n",
    "lst.reverse()\n",
    "print(lst)"
   ]
  },
  {
   "cell_type": "code",
   "execution_count": null,
   "metadata": {},
   "outputs": [],
   "source": [
    "for _ in range(int(input())):\n",
    "    x, a, z, b = input(), set(input().split()), input(), set(input().split())\n",
    "    print(a.issubset(b))"
   ]
  },
  {
   "cell_type": "code",
   "execution_count": null,
   "metadata": {},
   "outputs": [],
   "source": [
    "num = int(input())\n",
    "\n",
    "i = 2\n",
    "flag = 0\n",
    "while i < num:\n",
    "    if num % i == 0: \n",
    "        flag = 0\n",
    "        break\n",
    "    else: flag = 1  \n",
    "    i+=1\n",
    "\n",
    "if flag == 0: print(\"Not prime\")\n",
    "else: print(\"Prime\")"
   ]
  },
  {
   "cell_type": "code",
   "execution_count": null,
   "metadata": {},
   "outputs": [],
   "source": [
    "num = int(input())\n",
    "\n",
    "i = 2\n",
    "\n",
    "if num <= 1 : print(\"Please enter valid number\")\n",
    "else:\n",
    "    while i < num:\n",
    "        if num % i == 0: \n",
    "            print(\"Not prime\")\n",
    "            break\n",
    "        i+=1\n",
    "    else:\n",
    "        print(\"Prime\")"
   ]
  },
  {
   "cell_type": "code",
   "execution_count": null,
   "metadata": {},
   "outputs": [],
   "source": [
    "num = int(input())\n",
    "\n",
    "i = 2\n",
    "\n",
    "if num <= 1 : print(\"Please enter valid number\")\n",
    "else:\n",
    "    while i < (num//2)+1:\n",
    "        if num % i == 0: \n",
    "            print(\"Not prime\")\n",
    "            break\n",
    "        i+=1\n",
    "    else:\n",
    "        print(\"Prime\")"
   ]
  },
  {
   "cell_type": "code",
   "execution_count": null,
   "metadata": {},
   "outputs": [],
   "source": [
    "import math\n",
    "num = int(input())\n",
    "\n",
    "i = 2\n",
    "\n",
    "if num <= 1 : print(\"Please enter valid number\")\n",
    "else:\n",
    "    while i <= math.sqrt(num):\n",
    "        if num % i == 0: \n",
    "            print(\"Not prime\")\n",
    "            break\n",
    "        i+=1\n",
    "    else:\n",
    "        print(\"Prime\")"
   ]
  },
  {
   "cell_type": "code",
   "execution_count": null,
   "metadata": {},
   "outputs": [],
   "source": [
    "import math\n",
    "num = int(input())\n",
    "if num <= 1 : print(\"Please enter valid number\")\n",
    "else:\n",
    "    if num <= 3: print(\"prime\")\n",
    "    elif num % 2 == 0 or num % 3 == 0: print(\"Not prime\")\n",
    "    else:\n",
    "        i=5\n",
    "        while i <= math.sqrt(num):\n",
    "            if num % i == 0: \n",
    "                print(\"Not prime\")\n",
    "                break\n",
    "            i+=1\n",
    "        else:\n",
    "            print(\"Prime\")"
   ]
  }
 ],
 "metadata": {
  "interpreter": {
   "hash": "f23faf4bfe871c203c8bec80520af5927fc7cb1ae3bd834ddf554ee587ad1c05"
  },
  "kernelspec": {
   "display_name": "Python 3.8.7 64-bit",
   "language": "python",
   "name": "python3"
  },
  "language_info": {
   "codemirror_mode": {
    "name": "ipython",
    "version": 3
   },
   "file_extension": ".py",
   "mimetype": "text/x-python",
   "name": "python",
   "nbconvert_exporter": "python",
   "pygments_lexer": "ipython3",
   "version": "3.8.7"
  },
  "orig_nbformat": 4
 },
 "nbformat": 4,
 "nbformat_minor": 2
}
