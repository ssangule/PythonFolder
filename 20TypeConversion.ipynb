{
 "cells": [
  {
   "cell_type": "code",
   "execution_count": null,
   "metadata": {},
   "outputs": [],
   "source": [
    "#TYPE CONVERSION---\n",
    "\n",
    "#There are two types of Type Conversion in Python:\n",
    "# Implicit Type Conversion\n",
    "# Explicit Type Conversion"
   ]
  },
  {
   "cell_type": "code",
   "execution_count": 2,
   "metadata": {},
   "outputs": [
    {
     "name": "stdout",
     "output_type": "stream",
     "text": [
      "x is of type: <class 'int'>\n",
      "y is of type: <class 'float'>\n",
      "20.6\n",
      "x is of type: <class 'float'>\n"
     ]
    }
   ],
   "source": [
    "# IMPLICIT TYPE CONVERSION\n",
    "\n",
    "x = 10\n",
    "print(\"x is of type:\",type(x))\n",
    "\n",
    "y = 10.6\n",
    "print(\"y is of type:\",type(y))\n",
    "\n",
    "x = x + y\n",
    "print(x)\n",
    "print(\"x is of type:\",type(x))"
   ]
  },
  {
   "cell_type": "code",
   "execution_count": 4,
   "metadata": {},
   "outputs": [
    {
     "name": "stdout",
     "output_type": "stream",
     "text": [
      "After converting to integer base 2 : 18\n",
      "After converting to float : 10010.0\n"
     ]
    }
   ],
   "source": [
    "# EXPLICIT TYPE CONVERSION\n",
    "\n",
    "s = \"10010\"\n",
    "\n",
    "c = int(s,2)\n",
    "print (\"After converting to integer base 2 : \", end=\"\")\n",
    "print (c)\n",
    "\n",
    "e = float(s)\n",
    "print (\"After converting to float : \", end=\"\")\n",
    "print (e)"
   ]
  },
  {
   "cell_type": "code",
   "execution_count": 9,
   "metadata": {},
   "outputs": [
    {
     "name": "stdout",
     "output_type": "stream",
     "text": [
      "After converting character to integer : 65\n",
      "After converting 56 to hexadecimal string : 0x38\n",
      "After converting 56 to octal string : 0o70\n"
     ]
    }
   ],
   "source": [
    "s = 'A'\n",
    "\n",
    "c = ord(s)\n",
    "print (\"After converting character to integer : \",end=\"\")\n",
    "print (c)\n",
    "\n",
    "c = hex(56)\n",
    "print (\"After converting 56 to hexadecimal string : \",end=\"\")\n",
    "print (c)\n",
    "\n",
    "c = oct(56)\n",
    "print (\"After converting 56 to octal string : \",end=\"\")\n",
    "print (c)"
   ]
  },
  {
   "cell_type": "code",
   "execution_count": 10,
   "metadata": {},
   "outputs": [
    {
     "name": "stdout",
     "output_type": "stream",
     "text": [
      "After converting string to tuple : ('g', 'e', 'e', 'k', 's')\n",
      "After converting string to set : {'g', 'e', 'k', 's'}\n",
      "After converting string to list : ['g', 'e', 'e', 'k', 's']\n"
     ]
    }
   ],
   "source": [
    "s = 'geeks'\n",
    "\n",
    "c = tuple(s)\n",
    "print (\"After converting string to tuple : \",end=\"\")\n",
    "print (c)\n",
    "\n",
    "c = set(s)\n",
    "print (\"After converting string to set : \",end=\"\")\n",
    "print (c)\n",
    "\n",
    "c = list(s)\n",
    "print (\"After converting string to list : \",end=\"\")\n",
    "print (c)"
   ]
  },
  {
   "cell_type": "code",
   "execution_count": 14,
   "metadata": {},
   "outputs": [
    {
     "name": "stdout",
     "output_type": "stream",
     "text": [
      "After converting integer to complex number : (1+2j)\n",
      "After converting integer to string : 1\n",
      "'1'\n",
      "After converting tuple to dictionary : {'a': 1, 'f': 2, 'g': 3}\n",
      "After converting tuple to dictionary : {'a': 'a', 'f': 2, 'g': 3}\n",
      "After converting tuple to dictionary : {'1': '1', 'f': 2, 'g': 3}\n"
     ]
    }
   ],
   "source": [
    "a = 1\n",
    "b = 2\n",
    "\n",
    "tup = (('a', 1) ,('f', 2), ('g', 3))\n",
    "tup1 = (('aa') ,('f', 2), ('g', 3))\n",
    "tup2 = (('11') ,('f', 2), ('g', 3))\n",
    "\n",
    "c = complex(1,2)\n",
    "print (\"After converting integer to complex number : \",end=\"\")\n",
    "print (c)\n",
    "\n",
    "c = str(a)\n",
    "print (\"After converting integer to string : \",end=\"\")\n",
    "print(c)\n",
    "print (repr(c))\n",
    "\n",
    "c = dict(tup)\n",
    "print (\"After converting tuple to dictionary : \",end=\"\")\n",
    "print (c)\n",
    "\n",
    "c = dict(tup1)\n",
    "print (\"After converting tuple to dictionary : \",end=\"\")\n",
    "print (c)\n",
    "\n",
    "c = dict(tup2)\n",
    "print (\"After converting tuple to dictionary : \",end=\"\")\n",
    "print (c)"
   ]
  },
  {
   "cell_type": "code",
   "execution_count": 15,
   "metadata": {},
   "outputs": [
    {
     "name": "stdout",
     "output_type": "stream",
     "text": [
      "L\n",
      "M\n"
     ]
    }
   ],
   "source": [
    "a = chr(76)\n",
    "b = chr(77)\n",
    "\n",
    "print(a)\n",
    "print(b)\n"
   ]
  }
 ],
 "metadata": {
  "interpreter": {
   "hash": "f23faf4bfe871c203c8bec80520af5927fc7cb1ae3bd834ddf554ee587ad1c05"
  },
  "kernelspec": {
   "display_name": "Python 3.8.7 64-bit",
   "language": "python",
   "name": "python3"
  },
  "language_info": {
   "codemirror_mode": {
    "name": "ipython",
    "version": 3
   },
   "file_extension": ".py",
   "mimetype": "text/x-python",
   "name": "python",
   "nbconvert_exporter": "python",
   "pygments_lexer": "ipython3",
   "version": "3.8.7"
  },
  "orig_nbformat": 4
 },
 "nbformat": 4,
 "nbformat_minor": 2
}
