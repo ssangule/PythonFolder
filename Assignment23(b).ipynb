{
 "cells": [
  {
   "cell_type": "code",
   "execution_count": null,
   "metadata": {},
   "outputs": [],
   "source": [
    "# Q14. A number is called perfect if the sum of proper divisor of that number is equal to the number. For example 28 is a perfect number, since 1+2+4+7+14=28. Write a program to print all the perfect numbers in a given range. \n",
    "\n",
    "def perfect(num):\n",
    "    for number in range(1,num+1):\n",
    "        sum = 0\n",
    "        for i in range(1, number):\n",
    "            if number % i == 0:\n",
    "                sum += i\n",
    "        if sum == number: print(number)\n",
    "\n",
    "num = int(input())\n",
    "perfect(num)"
   ]
  },
  {
   "cell_type": "code",
   "execution_count": null,
   "metadata": {},
   "outputs": [],
   "source": [
    "# Q15 Two different numbers are called amicable number if the sum of the proper divisors of each is equal to the other number. For example 220 and 284 are amicable numbers. \n",
    "\n",
    "# Sum of proper divisors of 220=1+2+4+5+10+11+20+22+44+55+110=284 \n",
    "# Sum of proper divisors of 284=1+2+4+71+142=220.\t \n",
    "# Write a function to print pairs of amicable numbers in a range\n",
    "\n",
    "def amicable(num1,num2):\n",
    "    for i in range(1, num1):\n",
    "        if num1%i == 0: lst1.append(i)\n",
    "    for j in range(1, num2):\n",
    "        if num2%j == 0: lst2.append(j)\n",
    "    if sum(lst1) == num2 and sum(lst2) == num1: print(\"Amicable Numbers\")\n",
    "    else: print(\"These Numbers are not Amicable\")\n",
    "\n",
    "lst1 = []\n",
    "lst2 = []\n",
    "num1 = int(input(\"Enter 1st Number: \"))\n",
    "num2 = int(input(\"Enter 2nd Number: \"))\n",
    "amicable(num1,num2)"
   ]
  },
  {
   "cell_type": "code",
   "execution_count": null,
   "metadata": {},
   "outputs": [],
   "source": [
    "# Q16. Write a single function to print both amicable pairs and perfect numbers. \n",
    "\n",
    "def func(num1,num2):\n",
    "    for i in range(1, num1):\n",
    "        if num1%i == 0: lst1.append(i)\n",
    "    for j in range(1, num2):\n",
    "        if num2%j == 0: lst2.append(j)\n",
    "\n",
    "    if sum(lst1) == num1: print(f\"{num1} is Perfect number\")\n",
    "    else: print(f\"{num1} Is Not Perfect Number\")\n",
    "\n",
    "    if sum(lst2) == num2: print(f\"{num2} is Perfect Number\")\n",
    "    else: print(f\"{num2} Is Not Perfect Number\")\n",
    "\n",
    "    if sum(lst1) == num2 and sum(lst2) == num1: print(f\"{num1},{num2} are Amicable\")\n",
    "    else: print(\"These Numbers are not Amicable\")\n",
    "\n",
    "lst1 = []\n",
    "lst2 = []\n",
    "num1 = int(input(\"Enter 1st Number: \"))\n",
    "num2 = int(input(\"Enter 2nd Number: \"))\n",
    "func(num1,num2)"
   ]
  },
  {
   "cell_type": "code",
   "execution_count": null,
   "metadata": {},
   "outputs": [],
   "source": [
    "# Q17. Write a function convert() that can convert inches to cms and vice versa. The first argument should be the length to be converted  and second argument should be a character(‘I’ or ‘c’) denoting the measurement unit of the length given in first argument.  \n",
    "\n",
    "def convert(length,unit):\n",
    "    if unit == 'in':\n",
    "        print(f\"{length*2.54} centimeters\")\n",
    "    if unit == 'cm':\n",
    "        print(f\"{length*0.3937} inches\")\n",
    "\n",
    "length = int(input())\n",
    "unit = str(input())\n",
    "convert(length,unit)"
   ]
  },
  {
   "cell_type": "code",
   "execution_count": null,
   "metadata": {},
   "outputs": [],
   "source": [
    "# Q18. Write a program to print twin primes less than 1000. If two consecutive odd numbers are both prime (eg. 17, 19)  then they are known as twin prime numbers.\n",
    " \n",
    "def is_prime(n):\n",
    "   for i in range(2,n):\n",
    "      if n % i == 0:\n",
    "         return False\n",
    "   return True\n",
    "\n",
    "def generate_twins(start,end):\n",
    "   for i in range(start,end):\n",
    "      j = i+2\n",
    "      if(is_prime(i) and is_prime(j)):\n",
    "         print(\"({:d},{:d})\".format(i,j))\n",
    "\n",
    "start = int(input())\n",
    "end = int(input())\n",
    "generate_twins(start,end)"
   ]
  },
  {
   "cell_type": "code",
   "execution_count": null,
   "metadata": {},
   "outputs": [],
   "source": [
    "# Q19. Write a function isLeap() which inputs a year and return 1 if the year is leap otherwise 0. \n",
    "\n",
    "def isleap(year):\n",
    "    if (year % 4) == 0:\n",
    "        if (year % 100) == 0:\n",
    "            if (year % 400) == 0: return 1\n",
    "            else: return 0\n",
    "        else: return 1\n",
    "    else: return 0\n",
    "\n",
    "year = int(input(\"Enter a year: \"))\n",
    "print(isleap(year))"
   ]
  },
  {
   "cell_type": "code",
   "execution_count": null,
   "metadata": {},
   "outputs": [],
   "source": [
    "# Q20. Write a recursive function that reverses an integer. For example if the input is 43287 then the function should return the integer 78234 \n",
    "\n",
    "def reverse(num):  \n",
    "    global revr_num    \n",
    "    if (num > 0):  \n",
    "        Reminder = num % 10  \n",
    "        revr_num = (revr_num * 10) + Reminder  \n",
    "        reverse(num // 10)  \n",
    "    return revr_num  \n",
    "  \n",
    "num = int(input(\"Enter the number: \"))  \n",
    "revr_num = 0   \n",
    "revr_num = reverse(num)  \n",
    "print(\"Reverse of entered number is:\",revr_num)  "
   ]
  }
 ],
 "metadata": {
  "interpreter": {
   "hash": "f23faf4bfe871c203c8bec80520af5927fc7cb1ae3bd834ddf554ee587ad1c05"
  },
  "kernelspec": {
   "display_name": "Python 3.8.7 64-bit",
   "language": "python",
   "name": "python3"
  },
  "language_info": {
   "codemirror_mode": {
    "name": "ipython",
    "version": 3
   },
   "file_extension": ".py",
   "mimetype": "text/x-python",
   "name": "python",
   "nbconvert_exporter": "python",
   "pygments_lexer": "ipython3",
   "version": "3.8.7"
  },
  "orig_nbformat": 4
 },
 "nbformat": 4,
 "nbformat_minor": 2
}
