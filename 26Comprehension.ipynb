{
 "cells": [
  {
   "cell_type": "code",
   "execution_count": 1,
   "metadata": {},
   "outputs": [
    {
     "name": "stdout",
     "output_type": "stream",
     "text": [
      "[13, 44, 46, 38, 32]\n"
     ]
    }
   ],
   "source": [
    "#  WRITE A CODE TO MAKE A LIST WITH 10 RANDOM NUMBERS IN IT\n",
    "\n",
    "import random\n",
    "lst = []\n",
    "n = int(input())\n",
    "for i in range(n):\n",
    "    lst.append(random.randint(1,50))\n",
    "print(lst)"
   ]
  },
  {
   "cell_type": "code",
   "execution_count": 2,
   "metadata": {},
   "outputs": [
    {
     "name": "stdout",
     "output_type": "stream",
     "text": [
      "[19, 6, 32, 39, 8, 2, 5, 1, 34, 34]\n"
     ]
    }
   ],
   "source": [
    "#  BY USING LIST COMPREHENSION --- WE CAN USE LLIST COMPREHENSION EASILY BUT KNOWLEDGE OF FOR LOOP IS REQUIRED\n",
    "\n",
    "lst = [random.randint(1,50) for _ in range(10)]\n",
    "print(lst)"
   ]
  },
  {
   "cell_type": "code",
   "execution_count": 3,
   "metadata": {},
   "outputs": [
    {
     "name": "stdout",
     "output_type": "stream",
     "text": [
      "[1, 2, 3, 4, 5]\n"
     ]
    }
   ],
   "source": [
    "lst = [ i for i in range(1,6)]\n",
    "print(lst)"
   ]
  },
  {
   "cell_type": "code",
   "execution_count": 4,
   "metadata": {},
   "outputs": [
    {
     "name": "stdout",
     "output_type": "stream",
     "text": [
      "[1, 4, 9, 16, 25]\n"
     ]
    }
   ],
   "source": [
    "lst = [ i**2 for i in range(1,6)]\n",
    "print(lst)"
   ]
  },
  {
   "cell_type": "code",
   "execution_count": 5,
   "metadata": {},
   "outputs": [
    {
     "name": "stdout",
     "output_type": "stream",
     "text": [
      "hello1\n",
      "hello2\n",
      "hello3\n",
      "hello4\n",
      "hello5\n",
      "[None, None, None, None, None]\n"
     ]
    }
   ],
   "source": [
    "# PRINT FUNCTION DOES NOT RETURN YOU ANYTHING THAT'S WHY IT IS GIVING US LIST OF 'NONE'\n",
    "\n",
    "lst = [ print(f\"hello{i}\") for i in range(1,6)]\n",
    "print(lst)"
   ]
  },
  {
   "cell_type": "code",
   "execution_count": 6,
   "metadata": {},
   "outputs": [
    {
     "name": "stdout",
     "output_type": "stream",
     "text": [
      "[0, 2, 6, 12, 20]\n"
     ]
    }
   ],
   "source": [
    "def func(a,b):\n",
    "    return a**2+b\n",
    "lst = [ func(i,j) for i,j in enumerate(range(5))]\n",
    "print(lst)"
   ]
  },
  {
   "cell_type": "code",
   "execution_count": 7,
   "metadata": {},
   "outputs": [
    {
     "name": "stdout",
     "output_type": "stream",
     "text": [
      "Help on class enumerate in module builtins:\n",
      "\n",
      "class enumerate(object)\n",
      " |  enumerate(iterable, start=0)\n",
      " |  \n",
      " |  Return an enumerate object.\n",
      " |  \n",
      " |    iterable\n",
      " |      an object supporting iteration\n",
      " |  \n",
      " |  The enumerate object yields pairs containing a count (from start, which\n",
      " |  defaults to zero) and a value yielded by the iterable argument.\n",
      " |  \n",
      " |  enumerate is useful for obtaining an indexed list:\n",
      " |      (0, seq[0]), (1, seq[1]), (2, seq[2]), ...\n",
      " |  \n",
      " |  Methods defined here:\n",
      " |  \n",
      " |  __getattribute__(self, name, /)\n",
      " |      Return getattr(self, name).\n",
      " |  \n",
      " |  __iter__(self, /)\n",
      " |      Implement iter(self).\n",
      " |  \n",
      " |  __next__(self, /)\n",
      " |      Implement next(self).\n",
      " |  \n",
      " |  __reduce__(...)\n",
      " |      Return state information for pickling.\n",
      " |  \n",
      " |  ----------------------------------------------------------------------\n",
      " |  Static methods defined here:\n",
      " |  \n",
      " |  __new__(*args, **kwargs) from builtins.type\n",
      " |      Create and return a new object.  See help(type) for accurate signature.\n",
      "\n",
      "It return the Element of the Range but with Index also..Means At 0th Position 0 Is The Element...at 1st element 1 is element...at 2nd position 2 is element...so on....(0,0),(1,1),(2,2)(3,3)(4,4),(5,5)\n"
     ]
    }
   ],
   "source": [
    "help(enumerate)\n",
    "print(\"It return the Element of the Range but with Index also..Means At 0th Position 0 Is The Element...at 1st element 1 is element...at 2nd position 2 is element...so on....(0,0),(1,1),(2,2)(3,3)(4,4),(5,5)\")"
   ]
  },
  {
   "cell_type": "code",
   "execution_count": 8,
   "metadata": {},
   "outputs": [
    {
     "name": "stdout",
     "output_type": "stream",
     "text": [
      "[6, 12, 18, 24, 30, 36, 42, 48, 54, 60, 66, 72, 78, 84, 90, 96]\n"
     ]
    }
   ],
   "source": [
    "lst = []\n",
    "for i in range(1,100):\n",
    "    if (i%3 == 0) and (i%6 == 0):\n",
    "        lst.append(i)\n",
    "print(lst)"
   ]
  },
  {
   "cell_type": "code",
   "execution_count": 9,
   "metadata": {},
   "outputs": [
    {
     "name": "stdout",
     "output_type": "stream",
     "text": [
      "[6, 12, 18, 24, 30, 36, 42, 48, 54, 60, 66, 72, 78, 84, 90, 96]\n"
     ]
    }
   ],
   "source": [
    "# CONDITION IS AT THE END IN LIST COMPREHENSION\n",
    "\n",
    "lst = [num for num in range(1,101) if num%3==0 and num%6==0]\n",
    "print(lst)"
   ]
  },
  {
   "cell_type": "code",
   "execution_count": 10,
   "metadata": {},
   "outputs": [
    {
     "name": "stdout",
     "output_type": "stream",
     "text": [
      "[1, 2, 4, 5]\n"
     ]
    }
   ],
   "source": [
    "# NUM%3 CONDITION IS TRUE FOR 1,2,4,5 ONLY BECAUSE IT RETURNS TRUE AND LOOP BODY EXCECUTES\n",
    "\n",
    "lst = [num for num in range(6) if num%3]\n",
    "print(lst)"
   ]
  },
  {
   "cell_type": "code",
   "execution_count": 11,
   "metadata": {},
   "outputs": [
    {
     "name": "stdout",
     "output_type": "stream",
     "text": [
      "[0, 3]\n"
     ]
    }
   ],
   "source": [
    "# NUM%3==0 CONDITION IS TRUE FOR 0,3 ONLY BECAUSE IT RETURNS TRUE WHEN REMAINDER IS 0 AND LOOP BODY EXCECUTES\n",
    "\n",
    "lst = [num for num in range(6) if num%3==0]\n",
    "print(lst)"
   ]
  },
  {
   "cell_type": "code",
   "execution_count": 12,
   "metadata": {},
   "outputs": [
    {
     "name": "stdout",
     "output_type": "stream",
     "text": [
      "[2, 3, 5, 7, 11, 13, 17, 19, 23, 29, 31, 37, 41, 43, 47, 53, 59, 61, 67, 71, 73, 79, 83, 89, 97]\n"
     ]
    }
   ],
   "source": [
    "def prime(num):\n",
    "    if num <=1: return False                             # OR NOT VALID VALUE\n",
    "    if num <=3: return True                              # 2 AND 3 ARE ALWAYS PRIME NUMBERS\n",
    "    if num%2 == 0 or num%3 == 0: return False            # MOSTLY NUMBERS ARE DIVISIBLE BY 2 OR 3\n",
    "    for check in range(5, num//2):\n",
    "        if num%check==0: return False                    # CHECK ALWAYS BY SQRT OF THAT NUMBER OR HALF \n",
    "    return True                                          # IF NO. IS NOT DIVIDED BY LOOPING NO. THEN PRIME\n",
    "\n",
    "# CONDITION IS - IF(PRIME) IT MEANS IF NUMBER IS PRIME THEN IT RETURNS TRUE AND THEN IT WILL PRINT THAT NO.  \n",
    "\n",
    "arr = [num for num in range(1,101) if prime(num)]\n",
    "print(arr)"
   ]
  },
  {
   "cell_type": "code",
   "execution_count": 13,
   "metadata": {},
   "outputs": [
    {
     "name": "stdout",
     "output_type": "stream",
     "text": [
      "[(1, 0), (1, 1), (2, 0), (2, 1)]\n"
     ]
    }
   ],
   "source": [
    "# LIKE TWO DIMENSIONAL ARRAYS OR MATICES...\n",
    "\n",
    "arr = [(i,j) for i in range(1,3) for j in range(2)]\n",
    "print(arr)"
   ]
  },
  {
   "cell_type": "code",
   "execution_count": 1,
   "metadata": {},
   "outputs": [
    {
     "name": "stdout",
     "output_type": "stream",
     "text": [
      "[(0, 0, 0), (0, 0, 1), (0, 1, 0), (0, 1, 1), (1, 0, 0), (1, 0, 1), (1, 1, 0), (1, 1, 1)]\n"
     ]
    }
   ],
   "source": [
    "# LIKE THREE DIMENSIONAL ARRAYS OR MATRICES...\n",
    "\n",
    "arr = [(i,j,k) for i in range(2) for j in range(2) for k in range(2)]\n",
    "print(arr)"
   ]
  },
  {
   "cell_type": "code",
   "execution_count": 15,
   "metadata": {},
   "outputs": [
    {
     "name": "stdout",
     "output_type": "stream",
     "text": [
      "[(0, 0, 0), (0, 0, 1), (0, 0, 2), (0, 1, 0), (0, 1, 1), (0, 2, 0), (1, 0, 0), (1, 0, 1), (1, 1, 0), (2, 0, 0)]\n"
     ]
    }
   ],
   "source": [
    "# SAME AS ABOVE BUT WITH CONDITION\n",
    "\n",
    "arr = [(i,j,k) for i in range(3) for j in range(3) for k in range(3) if (i+j+k) <= 2]\n",
    "print(arr)"
   ]
  },
  {
   "cell_type": "code",
   "execution_count": 16,
   "metadata": {},
   "outputs": [
    {
     "name": "stdout",
     "output_type": "stream",
     "text": [
      "['A', 'B', 'C', 'D', 'E', 'F', 'G', 'H', 'I', 'J']\n"
     ]
    }
   ],
   "source": [
    "# USING FUNCTION 'CHR' MEANS CHARACTER PRESENT AT THIS ASCII VALUE\n",
    "\n",
    "print([chr(var) for var in range(65,75)])"
   ]
  },
  {
   "cell_type": "code",
   "execution_count": 17,
   "metadata": {},
   "outputs": [
    {
     "name": "stdout",
     "output_type": "stream",
     "text": [
      "['अ', 'आ', 'इ', 'ई', 'उ', 'ऊ', 'ऋ', 'ऌ', 'ऍ', 'ऎ', 'ए', 'ऐ', 'ऑ', 'ऒ', 'ओ', 'औ', 'क', 'ख', 'ग', 'घ', 'ङ']\n"
     ]
    }
   ],
   "source": [
    "# USING FUNCTION 'CHR' MEANS CHARACTER PRESENT AT THIS ASCII VALUE\n",
    "\n",
    "print([chr(var) for var in range(2309,2330)])"
   ]
  },
  {
   "cell_type": "code",
   "execution_count": 18,
   "metadata": {},
   "outputs": [
    {
     "name": "stdout",
     "output_type": "stream",
     "text": [
      "['__add__', '__class__', '__contains__', '__delattr__', '__delitem__', '__dir__', '__doc__', '__eq__', '__format__', '__ge__', '__getattribute__', '__getitem__', '__gt__', '__hash__', '__iadd__', '__imul__', '__init__', '__init_subclass__', '__iter__', '__le__', '__len__', '__lt__', '__mul__', '__ne__', '__new__', '__reduce__', '__reduce_ex__', '__repr__', '__reversed__', '__rmul__', '__setattr__', '__setitem__', '__sizeof__', '__str__', '__subclasshook__', 'append', 'clear', 'copy', 'count', 'extend', 'index', 'insert', 'pop', 'remove', 'reverse', 'sort']\n"
     ]
    }
   ],
   "source": [
    "print(dir(list))"
   ]
  },
  {
   "cell_type": "code",
   "execution_count": 19,
   "metadata": {},
   "outputs": [
    {
     "name": "stdout",
     "output_type": "stream",
     "text": [
      "['append', 'clear', 'copy', 'count', 'extend', 'index', 'insert', 'pop', 'remove', 'reverse', 'sort']\n",
      "['append', 'clear', 'copy', 'count', 'extend', 'index', 'insert', 'pop', 'remove', 'reverse', 'sort']\n",
      "append\n",
      "clear\n",
      "copy\n",
      "count\n",
      "extend\n",
      "index\n",
      "insert\n",
      "pop\n",
      "remove\n",
      "reverse\n",
      "sort\n"
     ]
    }
   ],
   "source": [
    "# INSIDE THE DIRECTORY OF LIST WE ARE USING A LOOP IN WHICH WE ARE PRINTING BASICALLY STRINGS BUT WITH A CONDITION THAT DOES NOT START WITH A UNDERSCORE...MEANS IT WILL PRINT ONLY SIMPLE FUNCTIONS NAMES...\n",
    "\n",
    "print([f for f in dir(list) if f[0] != '_'])\n",
    "print([f for f in dir(list) if f[0] != '_'], sep='\\n')\n",
    "print(*[f for f in dir(list) if f[0] != '_'], sep='\\n')"
   ]
  },
  {
   "cell_type": "code",
   "execution_count": 20,
   "metadata": {},
   "outputs": [
    {
     "name": "stdout",
     "output_type": "stream",
     "text": [
      "<class 'set'>\n",
      "{0, 1, 2, 3, 4}\n"
     ]
    }
   ],
   "source": [
    "# Printing a set by given code...\n",
    "\n",
    "d = {v for v in range(5)}\n",
    "print(type(d))\n",
    "print(d)"
   ]
  },
  {
   "cell_type": "code",
   "execution_count": 21,
   "metadata": {},
   "outputs": [
    {
     "name": "stdout",
     "output_type": "stream",
     "text": [
      "{'a': '1', 'b': '2', 'c': '3', 'd': '4', 'e': '5', 'f': '6'}\n",
      "<class 'dict'>\n"
     ]
    }
   ],
   "source": [
    "#  The Python zip() function accepts iterable items and merges them into a single tuple. The resultant value is a zip object that stores pairs of iterables. You can pass lists, tuples, sets, or dictionaries through the zip() function\n",
    "\n",
    "english = ['a', 'b', 'c', 'd', 'e', 'f']\n",
    "hindi = ['1','2','3','4','5','6']\n",
    "d = {e:h for e, h in zip(english, hindi)}\n",
    "print(d)\n",
    "print(type(d))"
   ]
  },
  {
   "cell_type": "code",
   "execution_count": 22,
   "metadata": {},
   "outputs": [
    {
     "name": "stdout",
     "output_type": "stream",
     "text": [
      "{0: 0, 1: 1, 2: 4, 3: 9, 4: 16}\n",
      "<class 'dict'>\n"
     ]
    }
   ],
   "source": [
    "# Printing a dictionary by given code...\n",
    "\n",
    "d = {i:i**2 for i in range(5)}\n",
    "print(d)\n",
    "print(type(d))"
   ]
  },
  {
   "cell_type": "code",
   "execution_count": 23,
   "metadata": {},
   "outputs": [
    {
     "name": "stdout",
     "output_type": "stream",
     "text": [
      "21\n",
      "121\n",
      "221\n",
      "321\n",
      "421\n",
      "521\n",
      "621\n",
      "721\n",
      "821\n",
      "921\n",
      "[None, None, None, None, None, None, None, None, None, None]\n"
     ]
    }
   ],
   "source": [
    "# REMEMBER, PRINT FUNCTION DOES NOT RETURN ANYTHING...SO IT RETURNS NONE\n",
    "\n",
    "def reverse(num):\n",
    "    rev= 0\n",
    "    while(num > 0):\n",
    "        a = num % 10\n",
    "        rev = rev * 10 + a\n",
    "        num = num // 10\n",
    "    print(rev)\n",
    "\n",
    "lst = [reverse(num) for num in range(120,130)]\n",
    "print(lst)"
   ]
  }
 ],
 "metadata": {
  "interpreter": {
   "hash": "f23faf4bfe871c203c8bec80520af5927fc7cb1ae3bd834ddf554ee587ad1c05"
  },
  "kernelspec": {
   "display_name": "Python 3.8.7 64-bit",
   "language": "python",
   "name": "python3"
  },
  "language_info": {
   "codemirror_mode": {
    "name": "ipython",
    "version": 3
   },
   "file_extension": ".py",
   "mimetype": "text/x-python",
   "name": "python",
   "nbconvert_exporter": "python",
   "pygments_lexer": "ipython3",
   "version": "3.8.7"
  },
  "orig_nbformat": 4
 },
 "nbformat": 4,
 "nbformat_minor": 2
}
