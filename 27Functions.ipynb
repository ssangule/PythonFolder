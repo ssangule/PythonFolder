{
 "cells": [
  {
   "cell_type": "code",
   "execution_count": null,
   "metadata": {},
   "outputs": [],
   "source": [
    "# A DUMMY FUNCTION THAT DOES NOT TAKE ARGUMENTS AND ALSO NOT RETURNING ANY VALUE BUT PRINTING A MESSAGES THAT WE WANT FROM THE FUNCTION...\n",
    "\n",
    "def info():\n",
    "    print(\"Author: Sachin Yadav\")\n",
    "    print(\"Version: 2.0\")\n",
    "    print(\"Company: Grass Solution\")\n",
    "info()\n",
    "\n",
    "print(type(info))\n",
    "print(info)"
   ]
  },
  {
   "cell_type": "code",
   "execution_count": null,
   "metadata": {},
   "outputs": [],
   "source": [
    "# IN THIS WE ASSIGN A FUNCTION TO THE VARIABLE THEN IF WE USE THAT VARIABLE IN PLACE OF FUNCTION CALL THEN WE CAN ACCESS THAT FUNCTION ALSO...\n",
    "\n",
    "a = info                 # ASSIGNING THE FUNCTION TO THE VARIABLE...\n",
    "a()                      # CALLING THE FUNCTION BY THE HELP OF VARIABLE...\n",
    "print(a)                 # PRINTING THE VARIABLE OR WE CAN USE NAME OF THE FUNCTION ALSO...\n",
    "print(a is info)\n",
    "print(id(info), id(a))   # IT WILL PRINT THE SAME ID  "
   ]
  },
  {
   "cell_type": "code",
   "execution_count": null,
   "metadata": {},
   "outputs": [],
   "source": [
    "# TYPES OF FUNCTIONS...1. FUNCTION TAKING NO ARGUMENT NOT RETURNING ANY VALUE...2. FUNCTION TAKING ARGUMENT BUT NOT RETURNING VALUE...3. FUNCTION NOT TAKING NY ARGUMENT BUT RETURNING A VALUE...4. FUNCTION TAKING ARGUMENT AND RETURNING VALUE ALSO...\n",
    "\n",
    "def hello1():\n",
    "    print(\"Type 1 -- No argument and No return Val\")\n",
    "hello1()"
   ]
  },
  {
   "cell_type": "code",
   "execution_count": null,
   "metadata": {},
   "outputs": [],
   "source": [
    "def hello2(name):\n",
    "    print(f\"Hello {name} Welcome To function\")\n",
    "    print(\"Type 2 -- With Argument and No return value \")\n",
    "hello2(\"Rajat\")"
   ]
  },
  {
   "cell_type": "code",
   "execution_count": null,
   "metadata": {},
   "outputs": [],
   "source": [
    "def pi():\n",
    "    print(\"Type 3 -- Without Argument And with return value\")\n",
    "    return 3.14\n",
    "pi()"
   ]
  },
  {
   "cell_type": "code",
   "execution_count": null,
   "metadata": {},
   "outputs": [],
   "source": [
    "def square(a,b):\n",
    "    print(\"Type 4 -- With Argumnet And with return type\")\n",
    "    return a**2 + b**2\n",
    "r = square(4,6)\n",
    "print(r)"
   ]
  },
  {
   "cell_type": "code",
   "execution_count": null,
   "metadata": {},
   "outputs": [],
   "source": [
    "def square(a:int,b:int) ->int:\n",
    "    print(\"Type 4 -- With Argumnet And with return type\")\n",
    "    return a**2 + b**2\n",
    "r = square(4.30,6.04)\n",
    "print(r)"
   ]
  },
  {
   "cell_type": "code",
   "execution_count": null,
   "metadata": {},
   "outputs": [],
   "source": [
    "def square(a:int,b:int) ->int:\n",
    "    print(\"Type 4 -- With Argumnet And with return type\")\n",
    "    return a**2 + b**2\n",
    "r = square(\"Hello\",\"World\")\n",
    "print(r)"
   ]
  },
  {
   "cell_type": "code",
   "execution_count": null,
   "metadata": {},
   "outputs": [],
   "source": [
    "# TELL ME THE OUTPUT:\n",
    "\n",
    "def func():\n",
    "    return 0\n",
    "    print(\"What Do you think\")\n",
    "    return 1\n",
    "    print(\"Which value to return\")\n",
    "    return 10\n",
    "a = func()\n",
    "print(a)"
   ]
  },
  {
   "cell_type": "code",
   "execution_count": null,
   "metadata": {},
   "outputs": [],
   "source": [
    "# HERE WE ARE CREATING SIMPLE FUNCTION, AND ALSO ADDING INDENTATION TO THESE FUNCTIONS LIKE 1ST ARGUMENT WILL BE FLOAT AND 2ND ARGUMENT WILL BE INT AND IT WILL RETURN COMPLEX NUMBER...BY ADDING THESE INDENTATIONS IT DOES NOT MEAN THAT YOU CAN ONLY RUN FUNCTIONS BY PASSING THESE ARGUMENTS ONLY...\n",
    "\n",
    "# THESE ARE A KIND OF SIGNATURE OF A WEB DEVELOPER..THAT A WEB DEVELOPER WRITES CODE LIKES THIS...\n",
    "# HELP FUNCTION PROVIDES HELP OR DETAILING OF ANY FUNCTION THAT WE PROVIDE OR THAT SYSTEM PROVIDE...GENERALLY HELP PROVIDES COMPLETE DETAIL OF PARTICULAR FUNCTION AND IF WE ASK ABOUT THE DOCSTRING ABOUT THE FUNCTION THAT IS LIMITED...\n",
    "\n",
    "# GENERALLY DOCSTRING IS THE FUNCTION WHICH PROVIDES US THAT INFORMATION ABOUT THE FUNCTION WHICH WE WRITE IN THE FUNCTION BY MYSELF...\n",
    "\n",
    "def helo(a:float,b:int)->complex:\n",
    "    pass\n",
    "help(helo)"
   ]
  },
  {
   "cell_type": "code",
   "execution_count": null,
   "metadata": {},
   "outputs": [],
   "source": [
    "# WE ARE SIMPLY WRITING A FUNCTION IN WHICH WE ARE MENTIONED DOCSTRING...AND CALLING BOTH FUNCTIONS HELP AND __DOC__ SO SEE THE DIFFERENCE BETWEEN THESE \n",
    "\n",
    "def helo1(a,b):\n",
    "    \"\"\"\n",
    "        doc string\n",
    "    \"\"\"\n",
    "help(helo1)\n",
    "print(helo1.__doc__)"
   ]
  },
  {
   "cell_type": "code",
   "execution_count": null,
   "metadata": {},
   "outputs": [],
   "source": [
    "# WE ARE SIMPLY WRITING A FUNCTION IN WHICH WE ARE MENTIONED DOCSTRING...AND CALLING BOTH FUNCTIONS HELP AND __DOC__ SO SEE THE DIFFERENCE BETWEEN THESE \n",
    "\n",
    "def sq_add(a:int,b:int)->int:\n",
    "    \"\"\"\n",
    "        This IS sqrt function\n",
    "    \"\"\"\n",
    "    return a*a+b*b\n",
    "sq_add(1,2)\n",
    "help(sq_add)\n",
    "print(sq_add.__doc__)"
   ]
  },
  {
   "cell_type": "code",
   "execution_count": null,
   "metadata": {},
   "outputs": [],
   "source": [
    "# * IS USED FOR UNPACKING"
   ]
  }
 ],
 "metadata": {
  "interpreter": {
   "hash": "f23faf4bfe871c203c8bec80520af5927fc7cb1ae3bd834ddf554ee587ad1c05"
  },
  "kernelspec": {
   "display_name": "Python 3.8.7 64-bit",
   "language": "python",
   "name": "python3"
  },
  "language_info": {
   "codemirror_mode": {
    "name": "ipython",
    "version": 3
   },
   "file_extension": ".py",
   "mimetype": "text/x-python",
   "name": "python",
   "nbconvert_exporter": "python",
   "pygments_lexer": "ipython3",
   "version": "3.8.7"
  },
  "orig_nbformat": 4
 },
 "nbformat": 4,
 "nbformat_minor": 2
}
