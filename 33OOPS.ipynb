{
 "cells": [
  {
   "cell_type": "code",
   "execution_count": null,
   "metadata": {},
   "outputs": [],
   "source": [
    "# Python is a multi-paradigm programming language. It supports different programming approaches.\n",
    "\n",
    "# One of the popular approaches to solve a programming problem is by creating objects. This is known as Object-Oriented Programming (OOP).\n",
    "\n",
    "# An object has two characteristics:\n",
    "\n",
    "# attributes\n",
    "# behavior\n",
    "# Let's take an example:\n",
    "\n",
    "# A parrot is an object, as it has the following properties:\n",
    "\n",
    "# name, age, color as attributes, attributes is also called as features / properties / data points(variables).\n",
    "# singing, dancing as behavior, behaviour is also called as method / function.\n",
    "# The concept of OOP in Python focuses on creating reusable code. This concept is also known as DRY (Don't Repeat Yourself)."
   ]
  },
  {
   "cell_type": "code",
   "execution_count": null,
   "metadata": {},
   "outputs": [],
   "source": [
    "stu1 = ['Rahul','CS-B','19EARCS090','Jaipur','1234567890']\n",
    "\n",
    "def getroll(student):\n",
    "    return student[2]\n",
    "def set_name(student,new_name):\n",
    "    student[0] = new_name\n",
    "def get_name(student):\n",
    "    return student[0]\n",
    "    \n",
    "print(getroll(stu1))\n",
    "print(get_name(stu1))\n",
    "set_name(stu1,'Mohit')\n",
    "print(get_name(stu1))"
   ]
  },
  {
   "cell_type": "code",
   "execution_count": null,
   "metadata": {},
   "outputs": [],
   "source": [
    "lst = [1,2,3,4]\n",
    "lst.reverse() \n",
    "print(lst)"
   ]
  },
  {
   "cell_type": "code",
   "execution_count": null,
   "metadata": {},
   "outputs": [],
   "source": [
    "# Class - \n",
    "# A class is a blueprint for the object, or we can say class is just a template that is used for creating object...\n",
    "# A class is a collection of data members (attributes, instance, object) and member functions (behaviour, method)...\n",
    "\n",
    "# We can think of class as a sketch of a parrot with labels. It contains all the details about the name, colors, size etc. Based on these descriptions, we can study about the parrot. Here, a parrot is an object.\n",
    "\n",
    "# Object - \n",
    "# An object (instance) is an instantiation of a class (Runtime Instance of class). When class is defined, only the description for the object is defined. Therefore, no memory or storage is allocated.\n",
    "# Runtime means Instant Basically\n",
    "\n",
    "# class diagram:\n",
    "    # Body of the class\n",
    "    # First of all define attributes, so have a little info about object --> name\n",
    "    # then think about behaviours--> get_name, set_name\n",
    "    # Methods -> mainly two types, getter() and setter()"
   ]
  },
  {
   "cell_type": "code",
   "execution_count": null,
   "metadata": {},
   "outputs": [],
   "source": [
    "class A:\n",
    "    pass\n",
    "a = A()\n",
    "print(A)\n",
    "print(a) # object representation\n",
    "issubclass(A,object)\n",
    "issubclass(int,object)\n",
    "issubclass(list,object)"
   ]
  },
  {
   "cell_type": "code",
   "execution_count": null,
   "metadata": {},
   "outputs": [],
   "source": [
    "class human(object):\n",
    "    def get_name(self):\n",
    "        return self.name\n",
    "    def set_name(self,name):\n",
    "        self.name = name\n",
    "h1 = human()\n",
    "h1.set_name('Rajat')\n",
    "h1.get_name()"
   ]
  },
  {
   "cell_type": "code",
   "execution_count": null,
   "metadata": {},
   "outputs": [],
   "source": [
    "# Functions are in global scope\n",
    "# methods are always in the scope of the particular object..."
   ]
  },
  {
   "cell_type": "code",
   "execution_count": null,
   "metadata": {},
   "outputs": [],
   "source": [
    "# Encapsulation: Binding data members(objects) and member functions(methods) together in a single unit In computer memory is known as encapsulation..."
   ]
  },
  {
   "cell_type": "code",
   "execution_count": null,
   "metadata": {},
   "outputs": [],
   "source": [
    "# Encapsulation\n",
    "\n",
    "class Student:\n",
    "    def __init__(self,name,section,roll_no,address,ph_no):\n",
    "        self.name = name\n",
    "        self.section = section\n",
    "        self.roll_no = roll_no\n",
    "        self.address = address\n",
    "        self.ph_no = ph_no\n",
    "    def get_roll_no(self):\n",
    "        return self.roll_no\n",
    "s1 = Student(\"Rajat\", \"CS-B\", \"19EARCS090\", \"Vaishali Nagar, Jaipur\", \"9874563210\")\n",
    "s1.get_roll_no()"
   ]
  },
  {
   "cell_type": "code",
   "execution_count": null,
   "metadata": {},
   "outputs": [],
   "source": [
    "# Objects = Data + Methods (ALways)"
   ]
  },
  {
   "cell_type": "code",
   "execution_count": null,
   "metadata": {},
   "outputs": [],
   "source": [
    "from pprint import *\n",
    "print(dir(list))\n",
    "print(dir(s1))"
   ]
  },
  {
   "cell_type": "code",
   "execution_count": null,
   "metadata": {},
   "outputs": [],
   "source": [
    "# Data Hiding/ Access Specifier: Hide Sensitive Information Inside a class or object"
   ]
  },
  {
   "cell_type": "code",
   "execution_count": null,
   "metadata": {},
   "outputs": [],
   "source": [
    "# Encapsulation = Abstraction + Data Hiding"
   ]
  },
  {
   "cell_type": "code",
   "execution_count": 20,
   "metadata": {},
   "outputs": [
    {
     "name": "stdout",
     "output_type": "stream",
     "text": [
      "Hello! Rajat\n"
     ]
    }
   ],
   "source": [
    "# mukundkumar1811@gmail.com\n",
    "class human:\n",
    "    def get_name(self):\n",
    "        print(f\"Hello! {self.name}\")\n",
    "    def set_name(self,name):\n",
    "        self.name = name\n",
    "h1 = human()\n",
    "# h1.get_name()\n",
    "h1.set_name('Rajat')\n",
    "h1.get_name()"
   ]
  },
  {
   "cell_type": "code",
   "execution_count": 21,
   "metadata": {},
   "outputs": [
    {
     "name": "stdout",
     "output_type": "stream",
     "text": [
      "Hello! Rajat\n"
     ]
    }
   ],
   "source": [
    "class human:\n",
    "    def get_name(self):\n",
    "        print(f\"Hello! {self.name}\")\n",
    "    def set_name(self,name):\n",
    "        self.name = name\n",
    "h1 = human()\n",
    "h1.name = \"Rajat\"\n",
    "h1.get_name()"
   ]
  },
  {
   "cell_type": "code",
   "execution_count": 23,
   "metadata": {},
   "outputs": [
    {
     "name": "stdout",
     "output_type": "stream",
     "text": [
      "Hello! Rajat\n",
      "Hello! Sagar\n"
     ]
    }
   ],
   "source": [
    "class human:\n",
    "    def get_name(self):\n",
    "        print(f\"Hello! {self.name}\")\n",
    "    def set_name(self,name):\n",
    "        self.name = name\n",
    "h1 = human(); h2 = human(); \n",
    "h1.set_name(\"Rajat\"); h2.set_name(\"Sagar\")  # DYNAMIC BINDING (VALUE IS SETTING AFTER CREATING OBJECT)\n",
    "h1.get_name()\n",
    "h2.get_name()"
   ]
  },
  {
   "cell_type": "code",
   "execution_count": 12,
   "metadata": {},
   "outputs": [
    {
     "name": "stdout",
     "output_type": "stream",
     "text": [
      "Help on built-in function append:\n",
      "\n",
      "append(object, /) method of builtins.list instance\n",
      "    Append object to the end of the list.\n",
      "\n",
      "Help on method_descriptor:\n",
      "\n",
      "append(self, object, /)\n",
      "    Append object to the end of the list.\n",
      "\n"
     ]
    }
   ],
   "source": [
    "l = [1,2,3]\n",
    "help(l.append)\n",
    "help(list.append)"
   ]
  },
  {
   "cell_type": "code",
   "execution_count": 14,
   "metadata": {},
   "outputs": [
    {
     "name": "stdout",
     "output_type": "stream",
     "text": [
      "[1, 2, 3, 4, 5]\n",
      "[1, 2, 3, 4, 5]\n"
     ]
    }
   ],
   "source": [
    "l = [1,2,3,4]\n",
    "list.append(l,5)\n",
    "print(l)\n",
    "\n",
    "l1 = [1,2,3,4]\n",
    "l1.append(5)\n",
    "print(l1)"
   ]
  },
  {
   "cell_type": "code",
   "execution_count": 19,
   "metadata": {},
   "outputs": [
    {
     "name": "stdout",
     "output_type": "stream",
     "text": [
      "Value of x is: 40\n"
     ]
    }
   ],
   "source": [
    "x  = 5\n",
    "def func():\n",
    "    globals()['x'] += x\n",
    "func()\n",
    "func()\n",
    "func()\n",
    "print(\"Value of x is:\",x)"
   ]
  },
  {
   "cell_type": "code",
   "execution_count": null,
   "metadata": {},
   "outputs": [],
   "source": [
    "# Magic methods are the methods which invoked automatically...we can't call them directly\n",
    "# Constructor itself a magic method"
   ]
  },
  {
   "cell_type": "code",
   "execution_count": 24,
   "metadata": {},
   "outputs": [
    {
     "name": "stdout",
     "output_type": "stream",
     "text": [
      "['__class__', '__delattr__', '__dict__', '__dir__', '__doc__', '__eq__', '__format__', '__ge__', '__getattribute__', '__gt__', '__hash__', '__init__', '__init_subclass__', '__le__', '__lt__', '__module__', '__ne__', '__new__', '__reduce__', '__reduce_ex__', '__repr__', '__setattr__', '__sizeof__', '__str__', '__subclasshook__', '__weakref__', 'get_name', 'set_name']\n"
     ]
    }
   ],
   "source": [
    "print(dir(human))"
   ]
  },
  {
   "cell_type": "code",
   "execution_count": null,
   "metadata": {},
   "outputs": [],
   "source": [
    "# Constructor: A magic method which is invoked at time of object creation\n",
    "# __new__ => it is used to create self(object scope)\n",
    "# __init__ => it is used to initialize default attributes "
   ]
  },
  {
   "cell_type": "code",
   "execution_count": 28,
   "metadata": {},
   "outputs": [
    {
     "name": "stdout",
     "output_type": "stream",
     "text": [
      "Creating Scope of <class '__main__.A'> object\n",
      "Object Scope <__main__.A object at 0x000002827238E4F0> is created Successfully\n",
      "Creating Scope of <class '__main__.A'> object\n",
      "Object Scope <__main__.A object at 0x000002827238E520> is created Successfully\n",
      "red\n",
      "white\n"
     ]
    }
   ],
   "source": [
    "import random\n",
    "class A:\n",
    "    def __new__(cls):\n",
    "        print(f\"Creating Scope of {cls} object\")\n",
    "        self = object.__new__(cls)\n",
    "        print(f\"Object Scope {self} is created Successfully\")\n",
    "        return self\n",
    "    def __init__(self):\n",
    "        color = ['red', 'green', 'yellow','purple','white']\n",
    "        self.color = random.choice(color)\n",
    "    def get_color(self):\n",
    "        print(self.color)\n",
    "a = A(); b = A()\n",
    "a.get_color()\n",
    "b.get_color()"
   ]
  }
 ],
 "metadata": {
  "interpreter": {
   "hash": "f23faf4bfe871c203c8bec80520af5927fc7cb1ae3bd834ddf554ee587ad1c05"
  },
  "kernelspec": {
   "display_name": "Python 3.8.7 64-bit",
   "language": "python",
   "name": "python3"
  },
  "language_info": {
   "codemirror_mode": {
    "name": "ipython",
    "version": 3
   },
   "file_extension": ".py",
   "mimetype": "text/x-python",
   "name": "python",
   "nbconvert_exporter": "python",
   "pygments_lexer": "ipython3",
   "version": "3.8.7"
  },
  "orig_nbformat": 4
 },
 "nbformat": 4,
 "nbformat_minor": 2
}
