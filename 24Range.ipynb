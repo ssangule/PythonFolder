{
 "cells": [
  {
   "cell_type": "code",
   "execution_count": null,
   "metadata": {},
   "outputs": [],
   "source": [
    "print(*range(10))"
   ]
  },
  {
   "cell_type": "code",
   "execution_count": null,
   "metadata": {},
   "outputs": [],
   "source": [
    "for i in range(1,5):\n",
    "    print((f\"*\"*i).ljust(10))"
   ]
  },
  {
   "cell_type": "code",
   "execution_count": null,
   "metadata": {},
   "outputs": [],
   "source": [
    "for i in range(1,5):\n",
    "    print((f\"{i}\"*i).ljust(10))"
   ]
  },
  {
   "cell_type": "code",
   "execution_count": null,
   "metadata": {},
   "outputs": [],
   "source": [
    "for i in range(1, 6):\n",
    "    for j in range(1, i + 1):\n",
    "         print(j, end= \" \")\n",
    "    print(\"\\n\")"
   ]
  },
  {
   "cell_type": "code",
   "execution_count": null,
   "metadata": {},
   "outputs": [],
   "source": [
    "for i in range(1, 11):\n",
    "    for j in range(1, i+1):\n",
    "        print(j, end=\" \")\n",
    "        j = j+1\n",
    "    print()"
   ]
  },
  {
   "cell_type": "code",
   "execution_count": null,
   "metadata": {},
   "outputs": [],
   "source": [
    "for i in range(1,16):\n",
    "    for j in range(i,i+1):\n",
    "        print(j, end= \" \")\n",
    "    print(\"\\n\")"
   ]
  },
  {
   "cell_type": "code",
   "execution_count": null,
   "metadata": {},
   "outputs": [],
   "source": [
    "for i in range(1,11):\n",
    "    print((\"*\"*i).rjust(10))"
   ]
  },
  {
   "cell_type": "code",
   "execution_count": null,
   "metadata": {},
   "outputs": [],
   "source": [
    "for i in range(1,11):\n",
    "    print((\"*\"*(2*i-1)).center(21))"
   ]
  },
  {
   "cell_type": "code",
   "execution_count": null,
   "metadata": {},
   "outputs": [],
   "source": [
    "for i in range(1,11):\n",
    "    print((\"*\"*(2*i-1)).center(21,'-'))"
   ]
  },
  {
   "cell_type": "code",
   "execution_count": null,
   "metadata": {},
   "outputs": [],
   "source": [
    "for i in range(1,11):\n",
    "    print((f\"{chr(96+i)}\"*(2*i-1)).center(21,'-'))"
   ]
  },
  {
   "cell_type": "code",
   "execution_count": null,
   "metadata": {},
   "outputs": [],
   "source": [
    "for i in range(1,11):\n",
    "    print((f\"{chr(64+i)}\"*(2*i-1)).center(21,'-'))"
   ]
  },
  {
   "cell_type": "code",
   "execution_count": null,
   "metadata": {},
   "outputs": [],
   "source": [
    "print(*enumerate('hello'))"
   ]
  },
  {
   "cell_type": "code",
   "execution_count": null,
   "metadata": {},
   "outputs": [],
   "source": [
    "lst = ['java', 'c', 'c++', 'python']\n",
    "print(*enumerate(lst, start=1), sep='\\n')"
   ]
  },
  {
   "cell_type": "code",
   "execution_count": null,
   "metadata": {},
   "outputs": [],
   "source": [
    "lst = ['java', 'c', 'c++', 'python']\n",
    "for c, item in enumerate(lst, start=1):\n",
    "    print(f\"{c}. {item}\")"
   ]
  },
  {
   "cell_type": "code",
   "execution_count": null,
   "metadata": {},
   "outputs": [],
   "source": [
    "names = ['Ravi','Amar']\n",
    "\n",
    "item = input('name: '.strip().lower)\n",
    "if item in names:\n",
    "    i = names.index(item)\n",
    "    print(f\"{item} found at loc {i}\")\n",
    "else:\n",
    "    print(f\"{item} is not in list\")"
   ]
  },
  {
   "cell_type": "code",
   "execution_count": null,
   "metadata": {},
   "outputs": [],
   "source": [
    "names = ['Sagar', 'Rajat', 'Pranav']\n",
    "Asked = input()\n",
    "\n",
    "for n,i in enumerate(names):\n",
    "    if(i == Asked):\n",
    "        print(f\"Found At LOcation {n}\") \n",
    "        break\n",
    "else: print(\"Not Found\")"
   ]
  },
  {
   "cell_type": "code",
   "execution_count": null,
   "metadata": {},
   "outputs": [],
   "source": [
    "lst = [34,64,35,67,77,41,12,10]\n",
    "key = int(input())\n",
    "flag = False\n",
    "for i in range(len(lst)):\n",
    "    item = lst[i]\n",
    "    if item == key: \n",
    "        flag = True\n",
    "        print(f\"Found At Index {i}\")\n",
    "    else: \n",
    "        if not flag:\n",
    "            print(\"Not Found\")"
   ]
  },
  {
   "cell_type": "code",
   "execution_count": null,
   "metadata": {},
   "outputs": [],
   "source": [
    "product = ['A','B','C','D','E','F']\n",
    "price = [30,60,80,34,100,57]\n",
    "quantity = [5,6,8,3,4,5]\n",
    "\n",
    "print(\"-\"*43)\n",
    "print(f\"|{'product':^20}|{'Total Sell':^20}|\")\n",
    "print(\"-\"*43)\n",
    "for name in product:\n",
    "        print(f\"|{name:^20}|\")"
   ]
  },
  {
   "cell_type": "code",
   "execution_count": null,
   "metadata": {},
   "outputs": [],
   "source": [
    "product = ['A','B','C','D','E','F']\n",
    "price = [30,60,80,34,100,57]\n",
    "quantity = [5,6,8,3,4,5]\n",
    "\n",
    "print(\"-\"*43)\n",
    "print(f\"|{'product':^20}|{'Total Sell':^20}|\")\n",
    "print(\"-\"*43)\n",
    "\n",
    "for i in range(len(product)):\n",
    "    pd = product[i]\n",
    "    pr = price[i]\n",
    "    q = quantity[i]\n",
    "    s = pr*q\n",
    "    print(f\"|{pd:^20}|{s:^20}|\")\n",
    "    print(\"-\"*43)"
   ]
  },
  {
   "cell_type": "code",
   "execution_count": null,
   "metadata": {},
   "outputs": [],
   "source": [
    "s1 = 'aeoe'\n",
    "s2 = 'wsm '\n",
    "z = zip(s1,s2)\n",
    "print(*z, sep='\\n')"
   ]
  },
  {
   "cell_type": "code",
   "execution_count": null,
   "metadata": {},
   "outputs": [],
   "source": [
    "product = ['A','B','C','D','E','F']\n",
    "price = [30,60,80,34,100,57]\n",
    "quantity = [5,6,8,3,4,5]\n",
    "\n",
    "print(\"-\"*43)\n",
    "print(f\"|{'product':^20}|{'Total Sell':^20}|\")\n",
    "print(\"-\"*43)\n",
    "\n",
    "for i,j,k in zip(product, price, quantity):\n",
    "    s = j*k\n",
    "    print(f\"|{i:^20}|{s:^20}|\")\n",
    "    print(\"-\"*43)"
   ]
  },
  {
   "cell_type": "code",
   "execution_count": 34,
   "metadata": {},
   "outputs": [
    {
     "name": "stdout",
     "output_type": "stream",
     "text": [
      "*******     \n",
      "      *****\n",
      "      ****\n",
      "     **     \n",
      "      ***\n",
      "  *****     \n",
      "      ******\n"
     ]
    }
   ],
   "source": [
    "arr = [-6, 4, 3, -1, 2, -4, 5]\n",
    "max1 = max(arr)\n",
    "min1 = min(arr)\n",
    "for i in range(len(arr)):\n",
    "    if arr[i] > 0:\n",
    "        print(\" \"*abs(min1)+ \"*\" +\"*\"*abs(arr[i]))\n",
    "    elif arr[i] < 0:\n",
    "        print((\"*\"*abs(arr[i])).rjust(6)+ \"*\" +\" \"*abs(max1))"
   ]
  }
 ],
 "metadata": {
  "interpreter": {
   "hash": "f23faf4bfe871c203c8bec80520af5927fc7cb1ae3bd834ddf554ee587ad1c05"
  },
  "kernelspec": {
   "display_name": "Python 3.8.7 64-bit",
   "language": "python",
   "name": "python3"
  },
  "language_info": {
   "codemirror_mode": {
    "name": "ipython",
    "version": 3
   },
   "file_extension": ".py",
   "mimetype": "text/x-python",
   "name": "python",
   "nbconvert_exporter": "python",
   "pygments_lexer": "ipython3",
   "version": "3.8.7"
  },
  "orig_nbformat": 4
 },
 "nbformat": 4,
 "nbformat_minor": 2
}
