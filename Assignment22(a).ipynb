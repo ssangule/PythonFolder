{
 "cells": [
  {
   "cell_type": "code",
   "execution_count": null,
   "metadata": {},
   "outputs": [],
   "source": [
    "# FROM Q1 TO Q10 => Q4 (X)(nhi aata)"
   ]
  },
  {
   "cell_type": "code",
   "execution_count": null,
   "metadata": {},
   "outputs": [],
   "source": [
    "# Program to find quotient and remainder  \n",
    "\n",
    "divident = int(input())\n",
    "divisor = int(input())\n",
    "\n",
    "quotient = divident//divisor\n",
    "remainder = divident % divisor\n",
    "print(quotient,remainder)"
   ]
  },
  {
   "cell_type": "code",
   "execution_count": null,
   "metadata": {},
   "outputs": [],
   "source": [
    "# Program to print the sum of digits of any number \n",
    "\n",
    "number = input()\n",
    "sum = 0\n",
    "for i in number:\n",
    "    j = int(i)\n",
    "    sum = sum + j\n",
    "print(sum)"
   ]
  },
  {
   "cell_type": "code",
   "execution_count": null,
   "metadata": {},
   "outputs": [],
   "source": [
    "# Program to print product of digits of any number \n",
    "\n",
    "number = input()\n",
    "product = 1\n",
    "for i in number:\n",
    "    j = int(i)\n",
    "    product = product * j\n",
    "print(product)"
   ]
  },
  {
   "cell_type": "code",
   "execution_count": null,
   "metadata": {},
   "outputs": [],
   "source": [
    "# Program to find the sum of numbers entered \n",
    "\n",
    "count = int(input())\n",
    "lst = []\n",
    "sum = 0\n",
    "for i in range(0,count):\n",
    "    num = int(input())\n",
    "    lst.append(num)\n",
    "for i in lst:\n",
    "    sum = sum + i\n",
    "print(sum)"
   ]
  },
  {
   "cell_type": "code",
   "execution_count": null,
   "metadata": {},
   "outputs": [],
   "source": [
    "# Multiply two positive numbers without using  * operator \n",
    "\n",
    "a = int(input())\n",
    "b = int(input())\n",
    "sum = 0\n",
    "for i in range(0,b):\n",
    "    sum = sum + a\n",
    "print(sum)"
   ]
  },
  {
   "cell_type": "code",
   "execution_count": null,
   "metadata": {},
   "outputs": [],
   "source": [
    "# Find the sum of this series up to n terms – 1 + 2 + 4 + 7 + 11 + 16 + …….. \n",
    "\n",
    "count = int(input())\n",
    "lst = [1]\n",
    "sum1 = 0\n",
    "for i in range(1,count):\n",
    "    temp = lst[i-1] + i\n",
    "    lst.append(temp)\n",
    "print(lst)\n",
    "for i in lst:\n",
    "    sum1 = sum1 + i\n",
    "print(sum1)"
   ]
  },
  {
   "cell_type": "code",
   "execution_count": null,
   "metadata": {},
   "outputs": [],
   "source": [
    "# Program to generate Fibonacci series \n",
    "\n",
    "count = int(input())\n",
    "lst = [0,1]\n",
    "for i in range(2,count):\n",
    "    a = lst[i-2]\n",
    "    b = lst[i-1]\n",
    "    b = a+b\n",
    "    lst.append(b)\n",
    "print(lst)"
   ]
  },
  {
   "cell_type": "code",
   "execution_count": null,
   "metadata": {},
   "outputs": [],
   "source": [
    "# Program to print Armstrong numbers \n",
    "\n",
    "num = int(input())\n",
    "sum = 0\n",
    "temp = num\n",
    "while temp > 0:\n",
    "   digit = temp % 10\n",
    "   sum += digit ** 3\n",
    "   temp //= 10\n",
    "if num == sum:\n",
    "   print(num,\"is an Armstrong number\")\n",
    "else:\n",
    "   print(num,\"is not an Armstrong number\")"
   ]
  },
  {
   "cell_type": "code",
   "execution_count": null,
   "metadata": {},
   "outputs": [],
   "source": [
    "# Program to find the sum of digits of a number until the sum is reduced to 1 digit \n",
    "\n",
    "def reduce(num):\n",
    "    global s\n",
    "    s = 0\n",
    "    for i in str(num):\n",
    "        s = s + int(i)\n",
    "num = input()\n",
    "s = 0\n",
    "reduce(num)\n",
    "while len(str(s)) > 1:\n",
    "    reduce(s)\n",
    "else: print(s)"
   ]
  }
 ],
 "metadata": {
  "language_info": {
   "name": "python"
  },
  "orig_nbformat": 4
 },
 "nbformat": 4,
 "nbformat_minor": 2
}
