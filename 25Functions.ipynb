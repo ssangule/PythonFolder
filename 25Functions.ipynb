{
 "cells": [
  {
   "cell_type": "code",
   "execution_count": null,
   "metadata": {},
   "outputs": [],
   "source": [
    "# FUNCTION DEFINATION -->\n",
    "\n",
    "# FUNCTION IS A PIECE OR BLOCK OF CODE THAT IS CALLED WHERE EVER WE NEED IT...SUPPOSE THERE IS A PEICE OF CODE THAT WE HAVE TO WRITE AGAIN AND AGAIN..SO WE CAN CREATE A FUNCTION AND WRITE THAT REPEATED CODE IN THAT FUNCYION & CALL THAT FUNCTION WHEREVER WE WANT TO PRINT THE CODE..."
   ]
  },
  {
   "cell_type": "code",
   "execution_count": null,
   "metadata": {},
   "outputs": [],
   "source": [
    "# SOME FEATURES OR POINTS ABOUT FUNCTION -->\n",
    "\n",
    "# IT ISSMALLEST PART OF THE PROGRAM\n",
    "# IT IS COLLECTION OF STATEMENTS TO SOLVE A PROBLEM\n",
    "# THE CODE REUSABLE AT DEMAND(ON CALLING)\n",
    "# SCOPING- REMOVE AMBIGUITY\n",
    "# EASY RECURSION\n",
    "# EASY DEBUGGING\n",
    "# HELPS IN MODULAR PROGRAMMING\n",
    "# WITH THIS MAINTAINANCE OF CODE BECOME EASY"
   ]
  },
  {
   "cell_type": "code",
   "execution_count": null,
   "metadata": {},
   "outputs": [],
   "source": [
    "# TYPES OF FUNCTIONS -->\n",
    "\n",
    "# 1. WITHOUT ARGUMENT WITHOUT RETURN TYPE \n",
    "# 2. WITHOUT ARGUMENT WITH RETURN TYPE\n",
    "# 3. WITH ARGUMENT WITHOUT RETURN TYPE\n",
    "# 4. WITH ARGUMENT WITH RETURN TYPE"
   ]
  },
  {
   "cell_type": "code",
   "execution_count": null,
   "metadata": {},
   "outputs": [],
   "source": [
    "# BY DEFAULT FUNCTIONS RETURN NONE"
   ]
  },
  {
   "cell_type": "code",
   "execution_count": null,
   "metadata": {},
   "outputs": [],
   "source": [
    "# SYNTAX:\n",
    "#      def function_name(a,b,c):\n",
    "#           statement1\n",
    "#           statement2\n",
    "#           statementn\n",
    "#           return statement"
   ]
  },
  {
   "cell_type": "code",
   "execution_count": null,
   "metadata": {},
   "outputs": [],
   "source": [
    "def hello():\n",
    "    print(\"WITHOUT ARGUMENT WITHOUT RETURN TYPE\")\n",
    "    \n",
    "hello()\n",
    "v = hello()\n",
    "print(v)                  # BY DEFAULT FUNCTION RETURN NONE"
   ]
  },
  {
   "cell_type": "code",
   "execution_count": null,
   "metadata": {},
   "outputs": [],
   "source": [
    "for _ in range(5):\n",
    "    hello()"
   ]
  },
  {
   "cell_type": "code",
   "execution_count": null,
   "metadata": {},
   "outputs": [],
   "source": [
    "def greet():\n",
    "    name = input()                                 #IT IS NOT A GOOD PRACTICE TO TAKE INPUT \n",
    "    print(f\"Hello User,{name}..Welcome To Functions\")\n",
    "    return 0\n",
    "\n",
    "greet()"
   ]
  },
  {
   "cell_type": "code",
   "execution_count": null,
   "metadata": {},
   "outputs": [],
   "source": [
    "if greet():\n",
    "    print(\"do you get it\")\n",
    "else:\n",
    "    print(\"Without Argument with return type\")"
   ]
  },
  {
   "cell_type": "code",
   "execution_count": null,
   "metadata": {},
   "outputs": [],
   "source": [
    "def is_even(num):\n",
    "    return num%2\n",
    "for i in range(1,11):\n",
    "    if is_even(i):\n",
    "        print(i, end=', ')\n",
    "else: print('\\nWith Argument With Return type')"
   ]
  },
  {
   "cell_type": "code",
   "execution_count": null,
   "metadata": {},
   "outputs": [],
   "source": [
    "def sqaure(a,b,output=False):\n",
    "    if output:\n",
    "        print(f\"a = {a}\")\n",
    "        print(f\"b = {b}\")\n",
    "        print(f\"a**b = {a**b}\")\n",
    "    return a**b\n",
    "sqaure(1,2,True)\n",
    "sqaure(5,10,False)"
   ]
  }
 ],
 "metadata": {
  "interpreter": {
   "hash": "f23faf4bfe871c203c8bec80520af5927fc7cb1ae3bd834ddf554ee587ad1c05"
  },
  "kernelspec": {
   "display_name": "Python 3.8.7 64-bit",
   "language": "python",
   "name": "python3"
  },
  "language_info": {
   "codemirror_mode": {
    "name": "ipython",
    "version": 3
   },
   "file_extension": ".py",
   "mimetype": "text/x-python",
   "name": "python",
   "nbconvert_exporter": "python",
   "pygments_lexer": "ipython3",
   "version": "3.8.7"
  },
  "orig_nbformat": 4
 },
 "nbformat": 4,
 "nbformat_minor": 2
}
