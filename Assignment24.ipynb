{
 "cells": [
  {
   "cell_type": "code",
   "execution_count": null,
   "metadata": {},
   "outputs": [],
   "source": [
    "class person:\n",
    "    def __init__(self,name1,name2,phn_no,email):\n",
    "        self.name1 = name1\n",
    "        self.name2 = name2\n",
    "        self.phn_no = phn_no\n",
    "        self.mail = email\n",
    "    def __str__(self):\n",
    "        if type(self.mail != list):\n",
    "            s = self.name1+ \", \" +self.name2+ \" -- \" +\"Phone Number:\"+ \" \" +self.phn_no+ \" -- \" +\"Email Address(es):\"+ \" \" +self.mail\n",
    "        return s\n",
    "Emily = person(\"Zhang\", \"Emily\", \"5559358150\", \"emzhang@mit.edu\")\n",
    "print(Emily)\n",
    "Wesley = person(\"Graybill\", \"Wesley\", \"5551940325\", \"wdgraybill@gmail.com\")\n",
    "print(Wesley)"
   ]
  }
 ],
 "metadata": {
  "interpreter": {
   "hash": "f23faf4bfe871c203c8bec80520af5927fc7cb1ae3bd834ddf554ee587ad1c05"
  },
  "kernelspec": {
   "display_name": "Python 3.8.7 64-bit",
   "language": "python",
   "name": "python3"
  },
  "language_info": {
   "codemirror_mode": {
    "name": "ipython",
    "version": 3
   },
   "file_extension": ".py",
   "mimetype": "text/x-python",
   "name": "python",
   "nbconvert_exporter": "python",
   "pygments_lexer": "ipython3",
   "version": "3.8.7"
  },
  "orig_nbformat": 4
 },
 "nbformat": 4,
 "nbformat_minor": 2
}
