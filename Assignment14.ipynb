{
 "cells": [
  {
   "cell_type": "code",
   "execution_count": null,
   "metadata": {},
   "outputs": [],
   "source": [
    "# Program to find the sum of digits of a number until the sum is reduced to 1 digit \n",
    "\n",
    "def sum1(num):\n",
    "    num = str(num)\n",
    "    add1 = 0\n",
    "    for i in range(len(num)):\n",
    "        add1 = add1 + int(num[i])\n",
    "    if add1%10==add1: print(add1) \n",
    "    else: sum1(add1)\n",
    "num = input()\n",
    "sum1(num)"
   ]
  },
  {
   "cell_type": "code",
   "execution_count": null,
   "metadata": {},
   "outputs": [],
   "source": [
    "# Write a program to accept any number n and print the cube of all numbers from 1 to n which are divisible by 3. Rewrite the program using a continue statement. \n",
    "\n",
    "def cube(num):\n",
    "    for i in range(1, num):\n",
    "        if i%3==0:\n",
    "            print(\"Num Is:\",i,\"Cube Is:\",i**3)\n",
    "        else: continue\n",
    "\n",
    "num = int(input())\n",
    "cube(num)"
   ]
  },
  {
   "cell_type": "code",
   "execution_count": null,
   "metadata": {},
   "outputs": [],
   "source": [
    "# Write a program to read roll number and marks of 10 students in 3 subjects. The valid range for roll number is 1000-9999, if the roll number entered is not in this range, the user should be asked to enter again. Calculate total marks of only those students who get more than or equal to 40 marks in each subject. Count the number of students whose total is more than 200. Print the roll number of the students who gets the highest total. \n",
    "\n",
    "i = 0\n",
    "sum = 0\n",
    "dictionary = {}\n",
    "while i < 3:\n",
    "    while(True):\n",
    "        roll = int(input(\"Roll_No: \"))\n",
    "        if (roll < 1000) or (roll > 9999): \n",
    "            roll = int(input(\"Roll_No: \"))\n",
    "        else: break\n",
    "        \n",
    "    marks1 = int(input(\"Marks1: \"))\n",
    "    marks2 = int(input(\"Marks2: \"))\n",
    "    marks3 = int(input(\"Marks3: \"))\n",
    "    dictionary.update({roll: [marks1, marks1, marks3]})\n",
    "    i+=1\n",
    "\n",
    "\n",
    "for key in dictionary:\n",
    "    for values in dictionary[key]:\n",
    "        if (dictionary[key][0] > 40 and dictionary[key][1] > 40 and dictionary[key][2] > 40):\n",
    "                    if dictionary[key][0]+dictionary[key][0]+dictionary[key][0] > 200:\n",
    "                        print(key, dictionary[key])\n",
    "                        break"
   ]
  },
  {
   "cell_type": "code",
   "execution_count": null,
   "metadata": {},
   "outputs": [],
   "source": [
    "# Write a program to input a number and count the digits in it. Use while loop and the program should work correctly for 0 also \n",
    "\n",
    "def count(num):\n",
    "    count1 = 0\n",
    "    i = 0\n",
    "    while i < len(num):\n",
    "        count1+=1\n",
    "        i+=1\n",
    "    print(count1, \"digits\")\n",
    "\n",
    "num = input()\n",
    "count(num)"
   ]
  },
  {
   "cell_type": "code",
   "execution_count": null,
   "metadata": {},
   "outputs": [],
   "source": [
    "# Write a program to enter a number and find the reverse of that number. Also display the double of the reverse number. (don’t use string magic) \n",
    "\n",
    "number = (input(\"Enter The Number: \"))\n",
    "number1 = number[::-1]\n",
    "print(\"Number:\",number, \"Reverse Number:\",number1, \"Square: \",int(number1)**2)"
   ]
  },
  {
   "cell_type": "code",
   "execution_count": 5,
   "metadata": {},
   "outputs": [
    {
     "name": "stdout",
     "output_type": "stream",
     "text": [
      "168\n"
     ]
    }
   ],
   "source": [
    "def func(num):\n",
    "    lcm = 1\n",
    "    quo = 0\n",
    "    for i in range(2,num+1):\n",
    "        if (num-quo)%i==0: \n",
    "            lcm = lcm*i\n",
    "            num = num-(num//i)\n",
    "            func(num)\n",
    "        else: pass\n",
    "    return lcm\n",
    "\n",
    "num = int(input(\"Enter A Number: \"))\n",
    "res = func(num)\n",
    "print(res)"
   ]
  }
 ],
 "metadata": {
  "interpreter": {
   "hash": "f23faf4bfe871c203c8bec80520af5927fc7cb1ae3bd834ddf554ee587ad1c05"
  },
  "kernelspec": {
   "display_name": "Python 3.8.7 64-bit",
   "language": "python",
   "name": "python3"
  },
  "language_info": {
   "codemirror_mode": {
    "name": "ipython",
    "version": 3
   },
   "file_extension": ".py",
   "mimetype": "text/x-python",
   "name": "python",
   "nbconvert_exporter": "python",
   "pygments_lexer": "ipython3",
   "version": "3.8.7"
  },
  "orig_nbformat": 4
 },
 "nbformat": 4,
 "nbformat_minor": 2
}
