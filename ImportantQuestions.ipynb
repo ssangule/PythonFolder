{
 "cells": [
  {
   "cell_type": "code",
   "execution_count": null,
   "metadata": {},
   "outputs": [],
   "source": [
    "print(\"Q1. What Is Shallow Copy And Deep Copy?\")\n",
    "\n",
    "print(\"Ans1. The difference between shallow and deep copying is only relevant for compound objects (objects that contain other objects, like lists or class instances)...A shallow copy constructs a new compound object and then (to the extent possible) inserts references into it to the objects found in the original.. A deep copy constructs a new compound object and then, recursively, inserts copies into it of the objects found in the original.\")"
   ]
  },
  {
   "cell_type": "code",
   "execution_count": null,
   "metadata": {},
   "outputs": [],
   "source": [
    "print(\"Q2. What Is Mutable And Immutable?\")\n",
    "\n",
    "print(\"Ans2. There are two types of objects in python that is... Mutable and Immutable objects. Whenever an object is instantiated, it is assigned a unique object id. The type of the object is defined at the runtime and it can’t be changed afterwards. However, it’s state can be changed if it is a mutable object..To summarise the difference, mutable objects can change their state or contents and immutable objects can’t change their state or content.\")"
   ]
  },
  {
   "cell_type": "code",
   "execution_count": null,
   "metadata": {},
   "outputs": [],
   "source": [
    "print(\"Q3. What Is Lazy Execution And Eager Execution?\")\n",
    "\n",
    "print(\"Ans3. In programming language theory, Lazy evaluation, or call-by-need is an evaluation strategy which delays the evaluation of an expression until its value is needed (non-strict evaluation) and which also avoids repeated evaluations (sharing). The sharing can reduce the running time of certain functions by an exponential factor over other non-strict evaluation strategies, such as call-by-name, which repeatedly evaluate the same function, blindly, regardless of whether the function can be memoized...Eager execution is a flexible machine learning platform for research and experimentation, providing: An intuitive interface—Structure your code naturally and use Python data structures. Quickly iterate on small models and small data. Easier debugging—Call ops directly to inspect running models and test changes.\")"
   ]
  },
  {
   "cell_type": "code",
   "execution_count": null,
   "metadata": {},
   "outputs": [],
   "source": [
    "print(\"Q4. What Is Generator And Iterator?\")\n",
    "\n",
    "print(\"Ans4. An iterator is an object which contains a countable number of values and it is used to iterate over iterable objects like list, tuples, sets, etc. Iterators are implemented using a class and a local variable for iterating is not required here, It follows lazy evaluation where the evaluation of the expression will be on hold and stored in the memory until the item is called specifically which helps us to avoid repeated evaluation...Whereas Generator is another way of creating iterators in a simple way where it uses the keyword “yield” instead of returning it in a defined function. Generators are implemented using a function. Just as iterators, generators also follow lazy evaluation. Here, the yield function returns the data without affecting or exiting the function. It will return a sequence of data in an iterable format where we need to iterate over the sequence to use the data as they won’t store the entire sequence in the memory.\")"
   ]
  },
  {
   "cell_type": "code",
   "execution_count": null,
   "metadata": {},
   "outputs": [],
   "source": [
    "print(\"Q5. How Range Function Works?\")\n",
    "\n",
    "print(\"Ans5. The Python range type generates a sequence of integers by defining a start and the end point of the range. It is generally used with the for loop to iterate over a sequence of numbers. ... Python 3 range is not a function but rather a type that represents an immutable sequence of numbers\")"
   ]
  },
  {
   "cell_type": "code",
   "execution_count": null,
   "metadata": {},
   "outputs": [],
   "source": [
    "print(\"Q6. What Is Enumerate And Zip Function?\")\n",
    "\n",
    "print(\"Ans 6. Python Enumerate() is a buit-in function available with the Python library. It takes the given input as a collection or tuples and returns it as an enumerate object. The Python Enumerate() command adds a counter to each item of the iterable object and returns an enumerate object as an output string...Whereas The zip() function combines the contents of two or more iterables. zip() returns a zip object. This is an iterator of tuples where all the values you have passed as arguments are stored as pairs. Python's zip() function takes an iterable—such as a list, tuple, set, or dictionary—as an argument.\")"
   ]
  },
  {
   "cell_type": "code",
   "execution_count": null,
   "metadata": {},
   "outputs": [],
   "source": [
    "print(\"Q7. What is list Comprehension??\")\n",
    "\n",
    "print(\"Ans 7. List comprehension offers a shorter syntax when you want to create a new list based on the values of an existing list.Example:Based on a list of fruits, you want a new list, containing only the fruits with the letter \"a\" in the name.Without list comprehension you will have to write a for statement with a conditional test inside:\n",
    "\n",
    "fruits = [\"apple\", \"banana\", \"cherry\", \"kiwi\", \"mango\"]\n",
    "newlist = []\n",
    "for x in fruits:\n",
    "  if \"a\" in x:\n",
    "    newlist.append(x)\n",
    "print(newlist)\n",
    "\n",
    "With list comprehension you can do all that with only one line of code:\n",
    "fruits = [\"apple\", \"banana\", \"cherry\", \"kiwi\", \"mango\"]\n",
    "newlist = [x for x in fruits if \"a\" in x]\n",
    "print(newlist)\")"
   ]
  },
  {
   "cell_type": "code",
   "execution_count": null,
   "metadata": {},
   "outputs": [],
   "source": [
    "print(\"Q8. Difference Between Docstring And Help Function in python??\")\n",
    "\n",
    "print(\"Ans 8. Declaring Docstrings: The docstrings are declared using ”’triple single quotes”’ or “””triple double quotes””” just below the class, method or function declaration. All functions should have a docstring. Accessing Docstrings: The docstrings can be accessed using the __doc__ method of the object or using the help function. Help() and dir(), are the two functions that are reachable from the python interpreter. ... It is also called built-in python help system. This method works for the correlative use. This function returns the assistance that linked to the python module, object, and method but if it called with the approachable argument.\")"
   ]
  },
  {
   "cell_type": "code",
   "execution_count": null,
   "metadata": {},
   "outputs": [],
   "source": [
    "print(\"Q9. Main Function In python...?)\n",
    "\n",
    "print(\"Ans 9. Some programming languages have a special function called main() which is the execution point for a program file. Python interpreter, however, runs each line serially from the top of the file and has no explicit main() function. Python offers other conventions to define the execution point. One of them is using the main() function and the __name__ property of a python file.\")"
   ]
  },
  {
   "cell_type": "code",
   "execution_count": null,
   "metadata": {},
   "outputs": [],
   "source": [
    "print(\"Q10. Name Convention In Python??\")\n",
    "\n",
    "print(\"Ans 10. The __name__ variable is a special builtin Python variable that shows the name of the current module.It has different values depending on where we execute the Python file. Let's look at an example.\")"
   ]
  },
  {
   "cell_type": "code",
   "execution_count": null,
   "metadata": {},
   "outputs": [],
   "source": [
    "print(\"Q11. Running Python File as a Script??\")\n",
    "\n",
    "print(\"Ans 11. Suppose we have a Python file called helloworld.py with the following content: print(__name__)...If we run helloworld.py from the command line, then it runs as a Python script. We can run the Python program using the following command: $ python helloworld.py...When we run the program as a script, the value of the variable __name__ is set to __main__. So the output of the following program will be: __main__\")"
   ]
  },
  {
   "cell_type": "code",
   "execution_count": null,
   "metadata": {},
   "outputs": [],
   "source": [
    "print(\"Q12. Running Python file as a Module\")\n",
    "\n",
    "print(\"We can also run a Python file as a module. For this, we have to import this file into another Python program. Let's look at an example. Suppose we have a Python file called main.py in the same directory as the heloworld.py file. It has the following content: import helloworld...When we run this file, we will have the following output: helloworld...Here, we can see that importing a module also runs all the code in the module file. But, we can see that instead of displaying __main__, the program displays the name of the module i.e. helloworld...It is because, in the context of running a Python file as a module, the name of the module itself is assigned to the __name__ variable.\")"
   ]
  },
  {
   "cell_type": "code",
   "execution_count": null,
   "metadata": {},
   "outputs": [],
   "source": [
    "# Some Important Points:\n",
    "\n",
    "# 1. A particular node may have so many references in linked list\n",
    "\n",
    "# 2. If we write \"del t\" and t is a reference means it will delete one reference named t not going to delete a particular node\n",
    "\n",
    "# 3. Node is deleted by destructor\n",
    "\n",
    "# 4. No need to deallocate the memory after deleting a node just because it is run-time language so garbage collector will automatically delete it. "
   ]
  }
 ],
 "metadata": {
  "interpreter": {
   "hash": "f23faf4bfe871c203c8bec80520af5927fc7cb1ae3bd834ddf554ee587ad1c05"
  },
  "kernelspec": {
   "display_name": "Python 3.8.7 64-bit",
   "language": "python",
   "name": "python3"
  },
  "language_info": {
   "codemirror_mode": {
    "name": "ipython",
    "version": 3
   },
   "file_extension": ".py",
   "mimetype": "text/x-python",
   "name": "python",
   "nbconvert_exporter": "python",
   "pygments_lexer": "ipython3",
   "version": "3.8.7"
  },
  "orig_nbformat": 4
 },
 "nbformat": 4,
 "nbformat_minor": 2
}
