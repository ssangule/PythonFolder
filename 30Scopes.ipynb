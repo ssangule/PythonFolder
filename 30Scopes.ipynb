{
 "cells": [
  {
   "cell_type": "code",
   "execution_count": null,
   "metadata": {},
   "outputs": [],
   "source": [
    "# SCOPE --\n",
    "\n",
    "    # built-in scope \n",
    "    # global (main) scope\n",
    "    # module scope\n",
    "    # local scope\n",
    "    # nonlocal scope"
   ]
  },
  {
   "cell_type": "code",
   "execution_count": null,
   "metadata": {},
   "outputs": [],
   "source": [
    "# TOPIC - SCOPE...WHETHER IT IS ACCESSIBLE OT NOT ACCESSIBLE...\n",
    "\n",
    "# Q. WRITE THE OUTPUT OF THIS CODE...\n",
    "\n",
    "def extendList(val, list=[]): \n",
    "    list.append(val) \n",
    "    return list \n",
    "\n",
    "list1 = extendList(10) # HERE WE ARE CALLING FUNCTION BY USING DEFAULT PARAMETER SO INSERT VALUE 10...\n",
    "list2 = extendList(123,[]) # HERE WE ARE CALLING FUNCTION BY PASSING OUR ACTUAL PARAMETER AS WELL...\n",
    "list3 = extendList('a') # AGAIN WE ARE USING DEFAULT PARAMETER AND APPENDING THE VALUE 'a' TO THE DEFAULT LIST\n",
    "\n",
    "print(list1, id(list1))\n",
    "print(list2, id(list2))\n",
    "print(list3, id(list3))"
   ]
  },
  {
   "cell_type": "code",
   "execution_count": null,
   "metadata": {},
   "outputs": [],
   "source": [
    "# WHEN WE EXECUTES A PROGRAM THEN A GLOBAL SPACE IS ALLOCATED TO IT SO IT IS A GLOBAL SCOPE OR SPACE...\n",
    "\n",
    "# THIS VARIABLE IS PRESENT IN GLOBAL SCOPE OF THIS PROGRAM...\n",
    "a = 5\n",
    "\n",
    "def func():  # WHEN WE DEFINE A FUNCTION, THIS DEFINATION IS STORED IN MEMORY...\n",
    "    a  = 10  # THIS VARIABLE IS STORED IN THE LOCAL SCOPE OF THIS FUNCTION OR WE CAN SAY ISOLATED SPACE\n",
    "    print(\"Inside Function: \", a) # HERE FIRST IT SEARCHES \"a\" IN ITS LOCAL SPACE...AND PROVIDE 10...\n",
    "\n",
    "print(\"Before Function: \", a) # HERE IT WILL SEARCHES A VALUE IN GLOBAL SCOPE FIRST AND PROVIDE 5\n",
    "func()\n",
    "print(\"After Function: \", a)  # AGAIN IT WILL FIRST SEARCHES IN ITS GLOBAL SCOPE AND PROVIDE 5\n",
    "\n",
    "# WHEN WE ACCESS A VALUE, IF WE GET THIS VALUE IN ITS SCOPE (WHETHER IT IS LOCAL SCOPE OR GLOBAL SCOPE) THEN IF IT IS NOT FOUND IN ITS PRESENT SCOPE THEN IT WILL SEARCH THAT IN BUILD-IN SCOPE, IF IT IS NOT FOUND IN BUILT-IN SCOPE THAN SYSTEM WILL THROW ERROR"
   ]
  },
  {
   "cell_type": "code",
   "execution_count": 1,
   "metadata": {},
   "outputs": [
    {
     "name": "stdout",
     "output_type": "stream",
     "text": [
      "<built-in function print>\n",
      "<function func at 0x000001E27CCF9280>\n"
     ]
    },
    {
     "data": {
      "text/plain": [
       "<function __main__.func()>"
      ]
     },
     "execution_count": 1,
     "metadata": {},
     "output_type": "execute_result"
    }
   ],
   "source": [
    "def func():\n",
    "    pass\n",
    "print(print)\n",
    "print(func)\n",
    "func"
   ]
  },
  {
   "cell_type": "code",
   "execution_count": 2,
   "metadata": {},
   "outputs": [
    {
     "name": "stdout",
     "output_type": "stream",
     "text": [
      "<built-in function print>\n"
     ]
    }
   ],
   "source": [
    "a = print\n",
    "print(a)"
   ]
  },
  {
   "cell_type": "code",
   "execution_count": null,
   "metadata": {},
   "outputs": [],
   "source": [
    "a = 10\n",
    "def func(a):\n",
    "    a  = 10 * 2\n",
    "    print(\"Inside Function: \", a)\n",
    "print(\"Before Function: \", a)\n",
    "func(a)\n",
    "print(\"After Function: \", a)"
   ]
  },
  {
   "cell_type": "code",
   "execution_count": null,
   "metadata": {},
   "outputs": [],
   "source": [
    "# Global variables are Accessible anywhere in the Program...\n",
    "# But we can not change or store the value of Global Variables like Code below--\n",
    "# Witout explicitly permission we cannot Reflect Changes... "
   ]
  },
  {
   "cell_type": "code",
   "execution_count": null,
   "metadata": {},
   "outputs": [],
   "source": [
    "a = 100\n",
    "def func():\n",
    "    print(\"Inside Function: \", a**2)\n",
    "print(\"Before Function: \", a)\n",
    "func()\n",
    "print(\"After Function: \", a)"
   ]
  },
  {
   "cell_type": "code",
   "execution_count": null,
   "metadata": {},
   "outputs": [],
   "source": [
    "# THIS WILL THROW ERROR BECAUSE WE ARE CHANGING THE VAUE OF GLOBAL VARIABLE AND TRYING TO CHANGE IT SO WE CAN NOT DO THIS, WE HAVE NOT RIGHTS...\n",
    "\n",
    "a = 10\n",
    "def func():\n",
    "    a  = a * 2\n",
    "    print(\"Inside Function: \", a)\n",
    "print(\"Before Function: \", a)\n",
    "func()\n",
    "print(\"After Function: \", a)"
   ]
  },
  {
   "cell_type": "code",
   "execution_count": 3,
   "metadata": {},
   "outputs": [
    {
     "name": "stdout",
     "output_type": "stream",
     "text": [
      "Before Function:  10\n",
      "Inside Function:  20\n",
      "After Function:  20\n"
     ]
    }
   ],
   "source": [
    "# THIS WILL THROW ERROR BECAUSE WE ARE CHANGING THE VAUE OF GLOBAL VARIABLE AND TRYING TO CHANGE IT SO WE CAN NOT DO THIS, WE HAVE NOT RIGHTS...\n",
    "\n",
    "a = 10\n",
    "def func():\n",
    "    global a\n",
    "    a  = a * 2\n",
    "    print(\"Inside Function: \", a)\n",
    "print(\"Before Function: \", a)\n",
    "func()\n",
    "print(\"After Function: \", a)"
   ]
  },
  {
   "cell_type": "code",
   "execution_count": null,
   "metadata": {},
   "outputs": [],
   "source": [
    "# NOW IF WE WANT TO CHANGE THE VALUE OF GLOBAL VARIABLE FROM FUNCTION AND WANT TO REFLECT THE CHANGES THEN WE HAVE TO ALLOW THE PERMISSION LIKE WE HAVE TO USE GLOBAL KEYWORD INSIDE FUNCTION TO TELL THAT SCOPE THAT THIS IS GLOBAL VARIABLE NOT LOCAL VARIABLE...\n",
    "\n",
    "x = []\n",
    "def func():\n",
    "    global x\n",
    "    x = x.append(100)\n",
    "    print(x, id(x))\n",
    "print(x, id(x))\n",
    "func()\n",
    "print(x, id(x))"
   ]
  },
  {
   "cell_type": "code",
   "execution_count": null,
   "metadata": {},
   "outputs": [],
   "source": [
    "globals()"
   ]
  },
  {
   "cell_type": "code",
   "execution_count": null,
   "metadata": {},
   "outputs": [],
   "source": [
    "x = 10\n",
    "def func():\n",
    "    x = 20\n",
    "    globals()['x'] = 100\n",
    "    print(\"Inner \", x)\n",
    "print(\"Before: \", x)\n",
    "func()\n",
    "print(\"After \", x)"
   ]
  },
  {
   "cell_type": "code",
   "execution_count": 3,
   "metadata": {},
   "outputs": [
    {
     "name": "stderr",
     "output_type": "stream",
     "text": [
      "UsageError: Line magic function `%%writefile` not found.\n"
     ]
    }
   ],
   "source": [
    "# HERE WE ARE WRITING A FILE NAMED 'ONE.PY', FIRST STATEMENT MEANS WE ARE WRITING/CREATING A FILE\n",
    "\n",
    "%%writefile one.py\n",
    "from pprint import pprint\n",
    "x = 10\n",
    "def func():\n",
    "    print(locals())\n",
    "    print(globals() == locals())\n",
    "print(globals() == locals())\n",
    "func()"
   ]
  },
  {
   "cell_type": "code",
   "execution_count": 4,
   "metadata": {},
   "outputs": [
    {
     "name": "stdout",
     "output_type": "stream",
     "text": [
      "True\n",
      "{}\n",
      "False\n"
     ]
    }
   ],
   "source": [
    "# WAY TO EXECUTE A FILE...\n",
    "\n",
    "!python one.py"
   ]
  },
  {
   "cell_type": "code",
   "execution_count": 4,
   "metadata": {},
   "outputs": [
    {
     "name": "stdout",
     "output_type": "stream",
     "text": [
      "Before X Value = 10\n",
      "Inner X Value = 20\n",
      "Outer X Value = 20\n",
      "After X Value = 10\n"
     ]
    }
   ],
   "source": [
    "x = 10 # global\n",
    "def outer():\n",
    "    x = 20 # local for outer, nonlocal for inner\n",
    "    def inner():\n",
    "        print(\"Inner X Value =\", x) # nonlocal\n",
    "    inner()\n",
    "    print(\"Outer X Value =\", x) # local\n",
    "    \n",
    "print('Before X Value =', x)\n",
    "outer()\n",
    "print('After X Value =', x)"
   ]
  },
  {
   "cell_type": "code",
   "execution_count": null,
   "metadata": {},
   "outputs": [],
   "source": [
    "x = 10 # global\n",
    "def outer():\n",
    "    x = 20 # local for outer, nonlocal for inner\n",
    "    def inner():\n",
    "        x = x + 10 # local\n",
    "        print(\"Inner X Value =\", x)\n",
    "    inner()\n",
    "    print(\"Outer X Value =\", x)\n",
    "    \n",
    "print('Before X Value =', x)\n",
    "outer()\n",
    "print('After X Value =', x)"
   ]
  },
  {
   "cell_type": "code",
   "execution_count": null,
   "metadata": {},
   "outputs": [],
   "source": [
    "x = 5 # global\n",
    "def outer():\n",
    "    x = 20\n",
    "    def inner():\n",
    "        global x\n",
    "        x = x + 10\n",
    "        print(\"Inner X Value =\", x) # 15\n",
    "    inner()\n",
    "    print(\"Outer X Value =\", x) # 20\n",
    "    \n",
    "print('Before X Value =', x) # 5\n",
    "outer()\n",
    "print('After X Value =', x) # 15"
   ]
  },
  {
   "cell_type": "code",
   "execution_count": null,
   "metadata": {},
   "outputs": [],
   "source": [
    "x = 5 # global\n",
    "def outer():\n",
    "    x = 20\n",
    "    def inner():\n",
    "        nonlocal x\n",
    "        x = x + 10\n",
    "        print(\"Inner X Value =\", x)\n",
    "    inner()\n",
    "    print(\"Outer X Value =\", x)\n",
    "print('Before X Value =', x)\n",
    "outer()\n",
    "print('After X Value =', x)"
   ]
  },
  {
   "cell_type": "code",
   "execution_count": null,
   "metadata": {},
   "outputs": [],
   "source": [
    "# SIMPLE CODE FOR RECURSION...\n",
    "\n",
    "def func(x):\n",
    "    if x:\n",
    "        func(x-1)\n",
    "        print(x)\n",
    "func(5)"
   ]
  }
 ],
 "metadata": {
  "interpreter": {
   "hash": "f23faf4bfe871c203c8bec80520af5927fc7cb1ae3bd834ddf554ee587ad1c05"
  },
  "kernelspec": {
   "display_name": "Python 3.8.7 64-bit",
   "language": "python",
   "name": "python3"
  },
  "language_info": {
   "codemirror_mode": {
    "name": "ipython",
    "version": 3
   },
   "file_extension": ".py",
   "mimetype": "text/x-python",
   "name": "python",
   "nbconvert_exporter": "python",
   "pygments_lexer": "ipython3",
   "version": "3.8.7"
  },
  "orig_nbformat": 4
 },
 "nbformat": 4,
 "nbformat_minor": 2
}
