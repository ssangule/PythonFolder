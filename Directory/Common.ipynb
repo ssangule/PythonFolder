{
 "cells": [
  {
   "cell_type": "code",
   "execution_count": null,
   "metadata": {},
   "outputs": [],
   "source": [
    "import math\n",
    "\n",
    "def isPrime(n):\n",
    "    if(n < 2): print(\"False\")  \n",
    "    elif(n==2 or n==3): print(\"True\") \n",
    "    elif((n % 2 == 0) or (n % 3 == 0)): print(\"False\") \n",
    "    else:\n",
    "        for i in range(4, int(math.sqrt(n))+1):\n",
    "            if n%i==0: \n",
    "                print(\"False\") \n",
    "                break\n",
    "        else: print(\"True\") "
   ]
  },
  {
   "cell_type": "code",
   "execution_count": null,
   "metadata": {},
   "outputs": [],
   "source": [
    "def armstrong(num):\n",
    "    sum = 0\n",
    "    temp = num\n",
    "    while temp > 0:\n",
    "        digit = temp % 10\n",
    "        sum += digit ** 3\n",
    "        temp //= 10\n",
    "    if num == sum:\n",
    "        print(\"Armstrong!\")\n",
    "    else:\n",
    "        print(\"Not Armstrong!\")"
   ]
  },
  {
   "cell_type": "code",
   "execution_count": null,
   "metadata": {},
   "outputs": [],
   "source": [
    "def palindrome(num):\n",
    "    temp=num\n",
    "    rev=0\n",
    "    while(num>0):\n",
    "        dig=num%10\n",
    "        rev=rev*10+dig\n",
    "        num=num//10\n",
    "    if(temp==rev):\n",
    "        print(\"Palindrome!\")\n",
    "    else:\n",
    "        print(\"Not Palindrome!\")"
   ]
  }
 ],
 "metadata": {
  "language_info": {
   "name": "python"
  },
  "orig_nbformat": 4
 },
 "nbformat": 4,
 "nbformat_minor": 2
}
