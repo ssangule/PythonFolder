{
 "cells": [
  {
   "cell_type": "code",
   "execution_count": 7,
   "metadata": {},
   "outputs": [
    {
     "name": "stdout",
     "output_type": "stream",
     "text": [
      "540\n",
      "1\n",
      "500\n",
      "250.0\n",
      "False\n",
      "Not Armstrong\n",
      "Palindrome!\n"
     ]
    }
   ],
   "source": [
    "import import_ipynb\n",
    "from Calculation import *\n",
    "from Common import *\n",
    "\n",
    "print(add(40,500))\n",
    "print(sub(100,99))\n",
    "print(multiply(10,50))\n",
    "print(division(500,2))\n",
    "\n",
    "isPrime(100)\n",
    "armstrong(525)\n",
    "palindrome(101)"
   ]
  }
 ],
 "metadata": {
  "interpreter": {
   "hash": "f23faf4bfe871c203c8bec80520af5927fc7cb1ae3bd834ddf554ee587ad1c05"
  },
  "kernelspec": {
   "display_name": "Python 3.8.7 64-bit",
   "language": "python",
   "name": "python3"
  },
  "language_info": {
   "codemirror_mode": {
    "name": "ipython",
    "version": 3
   },
   "file_extension": ".py",
   "mimetype": "text/x-python",
   "name": "python",
   "nbconvert_exporter": "python",
   "pygments_lexer": "ipython3",
   "version": "3.8.7"
  },
  "orig_nbformat": 4
 },
 "nbformat": 4,
 "nbformat_minor": 2
}
