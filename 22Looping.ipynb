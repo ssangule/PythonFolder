{
 "cells": [
  {
   "cell_type": "code",
   "execution_count": null,
   "metadata": {},
   "outputs": [],
   "source": [
    "# Python program to illustrate\n",
    "# while loop\n",
    "count = 0\n",
    "while (count < 3):\n",
    "\tcount = count + 1\n",
    "\tprint(\"Hello Geek\")"
   ]
  },
  {
   "cell_type": "code",
   "execution_count": null,
   "metadata": {},
   "outputs": [],
   "source": [
    "#Python program to illustrate\n",
    "# combining else with while\n",
    "count = 0\n",
    "while (count < 3):\n",
    "\tcount = count + 1\n",
    "\tprint(\"Hello Geek\")\n",
    "else:\n",
    "\tprint(\"In Else Block\")\n"
   ]
  },
  {
   "cell_type": "code",
   "execution_count": null,
   "metadata": {},
   "outputs": [],
   "source": [
    "# Python program to illustrate\n",
    "# Single statement while block...infinite looping...\n",
    "# count = 0\n",
    "# while (count == 1): print(\"Hello Geek\")"
   ]
  },
  {
   "cell_type": "code",
   "execution_count": null,
   "metadata": {},
   "outputs": [],
   "source": [
    "# Print the hello string...\n",
    "s = \"hello\"\n",
    "i = 0\n",
    "while i < len(s):\n",
    "    print(s[i], end = \" \")\n",
    "    i+=1"
   ]
  },
  {
   "cell_type": "code",
   "execution_count": null,
   "metadata": {},
   "outputs": [],
   "source": [
    "# Print the hello string in reverse...\n",
    "s = \"hello\"\n",
    "while s:\n",
    "    print(s[-1], end = \" \")\n",
    "    s = s[:-1]"
   ]
  },
  {
   "cell_type": "code",
   "execution_count": null,
   "metadata": {},
   "outputs": [],
   "source": [
    "# What is the output of this code...\n",
    "s = \"hello\"\n",
    "while s:\n",
    "    print(s[-1], end = \" \")\n",
    "    s = s[1:]"
   ]
  },
  {
   "cell_type": "code",
   "execution_count": null,
   "metadata": {},
   "outputs": [],
   "source": [
    "# Print The elements of the list...\n",
    "lst = ['hii', 'hello', 'bye', 'good', 'best']\n",
    "i = 0\n",
    "while i < len(lst):\n",
    "    print(lst[i], end = \" \")\n",
    "    i+=1"
   ]
  },
  {
   "cell_type": "code",
   "execution_count": null,
   "metadata": {},
   "outputs": [],
   "source": [
    "# Print How Many Vowels Are present in it...\n",
    "s = input(\"enter a string:\")\n",
    "lst = ['a', 'e', 'i', 'o', 'u']\n",
    "count = 0\n",
    "i = 0\n",
    "while i < len(s):\n",
    "    if (s[i] in lst):\n",
    "        count+=1\n",
    "    i+=1\n",
    "print(count)"
   ]
  },
  {
   "cell_type": "code",
   "execution_count": null,
   "metadata": {},
   "outputs": [],
   "source": [
    "# Print How Many Vowels Are present in it...\n",
    "s = input(\"enter a string:\")\n",
    "count = 0\n",
    "i = 0\n",
    "while i < len(s):\n",
    "    char = s[i]\n",
    "    if char == 'a' or char == 'e' or char == 'i' or char == 'o' or char == 'u':\n",
    "        count+=1\n",
    "    i+=1\n",
    "print(count)"
   ]
  },
  {
   "cell_type": "code",
   "execution_count": null,
   "metadata": {},
   "outputs": [],
   "source": [
    "# Print How Many Vowels Are present in it...\n",
    "count = 0\n",
    "s = input().lower()\n",
    "for char in s:\n",
    "    if char in 'aeiou':\n",
    "        count+=1\n",
    "    i+=1\n",
    "print(count)"
   ]
  },
  {
   "cell_type": "code",
   "execution_count": null,
   "metadata": {},
   "outputs": [],
   "source": [
    "# Use of all operator...\n",
    "op = all([\"True\",\"True\",\" \",[\"\"]])\n",
    "print(op)"
   ]
  },
  {
   "cell_type": "code",
   "execution_count": null,
   "metadata": {},
   "outputs": [],
   "source": [
    "# Use of break statement In Loops...\n",
    "i = 1\n",
    "while i < 10:\n",
    "    if i % 7 == 0: break\n",
    "    print(i**2, end = \" \")\n",
    "    i+=2"
   ]
  },
  {
   "cell_type": "code",
   "execution_count": null,
   "metadata": {},
   "outputs": [],
   "source": [
    "# Use of continue statement In Loops...\n",
    "# Not Providing output...only runnning bcoz of keyword (continue)\n",
    "# c = 1\n",
    "# while c < 10:\n",
    "#     continue\n",
    "#     print(c)\n",
    "#     c+=1"
   ]
  },
  {
   "cell_type": "code",
   "execution_count": null,
   "metadata": {},
   "outputs": [],
   "source": [
    "i = 1\n",
    "while i < 10:\n",
    "    i+=2\n",
    "    if i % 7 == 0: continue\n",
    "    print(i**2, end = \" \")"
   ]
  },
  {
   "cell_type": "code",
   "execution_count": null,
   "metadata": {},
   "outputs": [],
   "source": [
    "# QUESTION--> NUM = RANDOM.RANDINT(1,50)\n",
    "# TAKE 10 NUMBERS RANDOM AND APPEND IN IR LIST...USE WHILE LOOP \n",
    "# GAME--> GUESSING NUMBER "
   ]
  }
 ],
 "metadata": {
  "interpreter": {
   "hash": "f23faf4bfe871c203c8bec80520af5927fc7cb1ae3bd834ddf554ee587ad1c05"
  },
  "kernelspec": {
   "display_name": "Python 3.8.7 64-bit",
   "language": "python",
   "name": "python3"
  },
  "language_info": {
   "codemirror_mode": {
    "name": "ipython",
    "version": 3
   },
   "file_extension": ".py",
   "mimetype": "text/x-python",
   "name": "python",
   "nbconvert_exporter": "python",
   "pygments_lexer": "ipython3",
   "version": "3.8.7"
  },
  "orig_nbformat": 4
 },
 "nbformat": 4,
 "nbformat_minor": 2
}
