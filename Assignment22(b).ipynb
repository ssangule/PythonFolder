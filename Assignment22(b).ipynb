{
 "cells": [
  {
   "cell_type": "code",
   "execution_count": null,
   "metadata": {},
   "outputs": [],
   "source": [
    "# FROM Q11 TO Q20 => Q17,Q18,Q20 (X)(nhi aata)"
   ]
  },
  {
   "cell_type": "code",
   "execution_count": null,
   "metadata": {},
   "outputs": [],
   "source": [
    "# Program to find whether a number is prime or not \n",
    "\n",
    "import math\n",
    "\n",
    "def prime(num):\n",
    "    flag = False\n",
    "    if num < 2: flag = False\n",
    "    elif num == 2 or num == 3: flag = True\n",
    "    elif num % 2 == 0 or num % 3 == 0: flag = False\n",
    "    else:\n",
    "        for i in range(5, int(math.sqrt(num))+1):\n",
    "            if num % i == 0: \n",
    "                flag = False\n",
    "                break\n",
    "        else: flag = True\n",
    "    if flag: print(num, \"Prime Number\")\n",
    "    else: print(num, \"Not Prime Number\")\n",
    "\n",
    "number = int(input())\n",
    "prime(number)"
   ]
  },
  {
   "cell_type": "code",
   "execution_count": null,
   "metadata": {},
   "outputs": [],
   "source": [
    "# Program to find the sum and average of 10 positive integers \n",
    "\n",
    "lst = []\n",
    "sum = 0\n",
    "for i in range(0,10):\n",
    "    temp = int(input())\n",
    "    lst.append(temp)\n",
    "for i in lst:\n",
    "    sum = sum + i\n",
    "print(\"Sum is: \",sum)\n",
    "print(\"Average is: \", sum/10)"
   ]
  },
  {
   "cell_type": "code",
   "execution_count": null,
   "metadata": {},
   "outputs": [],
   "source": [
    "# Program to perform arithmetic calculations on integers \n",
    "\n",
    "def add(num1,num2):\n",
    "    print(num1+num2)\n",
    "def sub(num1,num2):\n",
    "    print(num1-num2)\n",
    "def mul(num1,num2):\n",
    "    print(num1*num2)\n",
    "def divide(num1,num2):\n",
    "    print(num1/num2)\n",
    "def mod(num1,num2):\n",
    "    print(num1%num2)\n",
    "\n",
    "num1 = int(input())\n",
    "num2 = int(input())\n",
    "\n",
    "for i in range(5):\n",
    "    print(\"Which Arithmetical Operation You want:\")\n",
    "    print(\"1. Addition\")\n",
    "    print(\"2. Subtraction\")\n",
    "    print(\"3. Multiplication\")\n",
    "    print(\"4. Division\")\n",
    "    print(\"5. Modulus\")\n",
    "    choice = int(input())\n",
    "    if choice == 1: add(num1,num2)\n",
    "    elif choice == 2: sub(num1,num2)\n",
    "    elif choice == 3: mul(num1,num2)\n",
    "    elif choice == 4: divide(num1,num2)\n",
    "    elif choice == 5: mod(num1,num2)\n",
    "    else: print(\"Insert Correct Choice\")"
   ]
  },
  {
   "cell_type": "code",
   "execution_count": null,
   "metadata": {},
   "outputs": [],
   "source": [
    "# Program to find whether the alphabet is a vowel or consonant \n",
    "\n",
    "str1 = input()\n",
    "vowels = 0\n",
    "consonents = 0\n",
    "for i in str1:\n",
    "    # if i in \"a\" or \"e\" or \"i\" or \"o\" or \"u\":\n",
    "    if i in (\"a\",\"e\",\"i\",\"o\",\"u\"):\n",
    "        vowels+=1\n",
    "    else: consonents+=1\n",
    "print(vowels)\n",
    "print(consonents)"
   ]
  },
  {
   "cell_type": "code",
   "execution_count": null,
   "metadata": {},
   "outputs": [],
   "source": [
    "# Program to check whether a date is valid or not \n",
    "\n",
    "def valid(day,month,year):\n",
    "    flag = True\n",
    "    if year > 2022 or day > 31 or month > 12 : flag = False\n",
    "    if month in (4,6,9,11) and day > 30: flag = False\n",
    "    if month == 2 and day > 28: flag = False\n",
    "    if flag: print(day,'/',month,'/',year,\"is Valid\")\n",
    "    else: print(day,'/',month,'/',year,\"is Invalid\")\n",
    "    \n",
    "day,month,year = map(int,input().split())\n",
    "valid(day,month,year)"
   ]
  },
  {
   "cell_type": "code",
   "execution_count": null,
   "metadata": {},
   "outputs": [],
   "source": [
    "# Program to get difference of two dates in years, months days \n",
    "\n",
    "def difference(day,month,year,day1,month1,year1):\n",
    "    a = year1-year\n",
    "    b = month1-month\n",
    "    c = day1-day\n",
    "    print(a,'years',b,'months',c,'days')\n",
    "\n",
    "day,month,year = map(int,input().split())\n",
    "day1,month1,year1 = map(int,input().split())\n",
    "difference(day,month,year,day1,month1,year1)"
   ]
  },
  {
   "cell_type": "code",
   "execution_count": null,
   "metadata": {},
   "outputs": [],
   "source": [
    "# Write a Program to input 10 numbers and find the largest number. \n",
    "\n",
    "lst = []\n",
    "for i in range(10):\n",
    "    temp = int(input())\n",
    "    lst.append(temp)\n",
    "max1 = 0\n",
    "for i in lst:\n",
    "    if max1 < i: max1 = i\n",
    "print(max1)"
   ]
  }
 ],
 "metadata": {
  "language_info": {
   "name": "python"
  },
  "orig_nbformat": 4
 },
 "nbformat": 4,
 "nbformat_minor": 2
}
