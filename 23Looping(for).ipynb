{
 "cells": [
  {
   "cell_type": "code",
   "execution_count": null,
   "metadata": {},
   "outputs": [],
   "source": [
    "fruits = [\"apple\", \"banana\", \"cherry\"]\n",
    "for x in fruits:\n",
    "  print(x)"
   ]
  },
  {
   "cell_type": "code",
   "execution_count": null,
   "metadata": {},
   "outputs": [],
   "source": [
    "for x in \"banana\":\n",
    "  print(x)"
   ]
  },
  {
   "cell_type": "code",
   "execution_count": null,
   "metadata": {},
   "outputs": [],
   "source": [
    "fruits = [\"apple\", \"banana\", \"cherry\"]\n",
    "for x in fruits:\n",
    "  print(x)\n",
    "  if x == \"banana\":\n",
    "    break"
   ]
  },
  {
   "cell_type": "code",
   "execution_count": null,
   "metadata": {},
   "outputs": [],
   "source": [
    "fruits = [\"apple\", \"banana\", \"cherry\"]\n",
    "for x in fruits:\n",
    "  if x == \"banana\":\n",
    "    break\n",
    "  print(x)"
   ]
  },
  {
   "cell_type": "code",
   "execution_count": null,
   "metadata": {},
   "outputs": [],
   "source": [
    "fruits = [\"apple\", \"banana\", \"cherry\"]\n",
    "for x in fruits:\n",
    "  if x == \"banana\":\n",
    "    continue\n",
    "  print(x)"
   ]
  },
  {
   "cell_type": "code",
   "execution_count": null,
   "metadata": {},
   "outputs": [],
   "source": [
    "for x in range(6):\n",
    "  print(x)"
   ]
  },
  {
   "cell_type": "code",
   "execution_count": null,
   "metadata": {},
   "outputs": [],
   "source": [
    "for x in range(2, 6):\n",
    "  print(x)"
   ]
  },
  {
   "cell_type": "code",
   "execution_count": null,
   "metadata": {},
   "outputs": [],
   "source": [
    "for x in range(2, 30, 3):\n",
    "  print(x)"
   ]
  },
  {
   "cell_type": "code",
   "execution_count": null,
   "metadata": {},
   "outputs": [],
   "source": [
    "for x in range(6):\n",
    "  print(x)\n",
    "else:\n",
    "  print(\"Finally finished!\")"
   ]
  },
  {
   "cell_type": "code",
   "execution_count": null,
   "metadata": {},
   "outputs": [],
   "source": [
    "for x in range(6):\n",
    "  if x == 3: break\n",
    "  print(x)\n",
    "else:\n",
    "  print(\"Finally finished!\")"
   ]
  },
  {
   "cell_type": "code",
   "execution_count": null,
   "metadata": {},
   "outputs": [],
   "source": [
    "adj = [\"red\", \"big\", \"tasty\"]\n",
    "fruits = [\"apple\", \"banana\", \"cherry\"]\n",
    "\n",
    "for x in adj:\n",
    "  for y in fruits:\n",
    "    print(x, y)"
   ]
  },
  {
   "cell_type": "code",
   "execution_count": null,
   "metadata": {},
   "outputs": [],
   "source": [
    "for x in [0, 1, 2]:\n",
    "  pass"
   ]
  },
  {
   "cell_type": "code",
   "execution_count": null,
   "metadata": {},
   "outputs": [],
   "source": [
    "for var in 12345:\n",
    "    print(var ** 2)"
   ]
  },
  {
   "cell_type": "code",
   "execution_count": null,
   "metadata": {},
   "outputs": [],
   "source": [
    "for var in '12345':\n",
    "    print(var ** 2)"
   ]
  },
  {
   "cell_type": "code",
   "execution_count": null,
   "metadata": {},
   "outputs": [],
   "source": [
    "for var in '12345':\n",
    "    print(var * 2)"
   ]
  },
  {
   "cell_type": "code",
   "execution_count": null,
   "metadata": {},
   "outputs": [],
   "source": [
    "for digit in '12345':\n",
    "    print(digit * int(digit))"
   ]
  },
  {
   "cell_type": "code",
   "execution_count": null,
   "metadata": {},
   "outputs": [],
   "source": [
    "student = {\n",
    "    '19EARCS090': ['RAJAT KHANDELWAL', 6377529014],\n",
    "    '19EARCS091': ['RAJAT YADAV', 9641198745],\n",
    "    '19EARCS092': ['RAJEEV DEY', 6985214956],\n",
    "    '19EARCS093': ['REHAN KHAN', 9865326941],\n",
    "    '19EARCS094': ['ROHAN KHANDELWAL', 8764090615]\n",
    "}\n",
    "\n",
    "for var in student:\n",
    "    print(var)\n",
    "\n",
    "for key in student:\n",
    "    value = student[key]\n",
    "    print(f\"{key:>20} = {value}\")\n",
    "\n",
    "\n",
    "for var in student.items():\n",
    "    print(var)\n",
    "\n",
    "for var in student.items():\n",
    "    print(var)\n",
    "    break\n",
    "\n",
    "for var in student.items():\n",
    "    key, value = var\n",
    "    print(f\"{key:>20} = {value}\")\n",
    "\n",
    "for (key,value) in student.items():\n",
    "    print(f\"{key:^20} = {value}\")"
   ]
  },
  {
   "cell_type": "code",
   "execution_count": null,
   "metadata": {},
   "outputs": [],
   "source": [
    "info = [\n",
    "    ['Rajat', 'Developer', 'Jaipur'],\n",
    "    ['Pranav', 'Engineer', 'Agra'],\n",
    "    ['Sagar', 'Tester', 'Bihar'],\n",
    "    ['Mohit', 'Developer', 'Udaipur'],\n",
    "    ['Jatin', 'Engineer', 'Gujrat']\n",
    "]\n",
    "\n",
    "for (name,role,city) in info:\n",
    "    print(\"_\"*34)\n",
    "    print(f\"|{name:^10}|{role:^10}|{city:^10}|\")"
   ]
  },
  {
   "cell_type": "code",
   "execution_count": null,
   "metadata": {},
   "outputs": [],
   "source": [
    "sells = [\n",
    "    ['apple', 20, 50000],\n",
    "    ['samsung', 30, 40000],\n",
    "    ['oppo', 50, 150000]\n",
    "]\n",
    "print(\"-\"*43)\n",
    "print(f\"|{'product':^20}|{'Total Sell':^20}|\")\n",
    "for (product,quantity,value) in sells:\n",
    "    print(\"-\"*43)\n",
    "    print(f\"|{product:^20}|{quantity*value:^20}|\")"
   ]
  }
 ],
 "metadata": {
  "interpreter": {
   "hash": "f23faf4bfe871c203c8bec80520af5927fc7cb1ae3bd834ddf554ee587ad1c05"
  },
  "kernelspec": {
   "display_name": "Python 3.8.7 64-bit",
   "language": "python",
   "name": "python3"
  },
  "language_info": {
   "codemirror_mode": {
    "name": "ipython",
    "version": 3
   },
   "file_extension": ".py",
   "mimetype": "text/x-python",
   "name": "python",
   "nbconvert_exporter": "python",
   "pygments_lexer": "ipython3",
   "version": "3.8.7"
  },
  "orig_nbformat": 4
 },
 "nbformat": 4,
 "nbformat_minor": 2
}
