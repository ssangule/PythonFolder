{
 "cells": [
  {
   "cell_type": "code",
   "execution_count": null,
   "metadata": {},
   "outputs": [],
   "source": [
    "# FROM Q21 TO Q32 => Q31 (X)(nhi aaya)"
   ]
  },
  {
   "cell_type": "code",
   "execution_count": null,
   "metadata": {},
   "outputs": [],
   "source": [
    "# Write a program to print all prime numbers from 1 to n. \n",
    "\n",
    "import math\n",
    "\n",
    "def prime(number):\n",
    "    lst = []\n",
    "    for num in range(1,number+1):\n",
    "        if num < 2: pass\n",
    "        elif num == 2 or num == 3: lst.append(num)\n",
    "        elif num % 2 == 0 or num % 3 == 0: pass\n",
    "        else:\n",
    "            for i in range(5, int(math.sqrt(num))+1):\n",
    "                if num % i == 0: break\n",
    "            else: lst.append(num)\n",
    "    print(lst)\n",
    "\n",
    "number = int(input())\n",
    "prime(number)"
   ]
  },
  {
   "cell_type": "code",
   "execution_count": null,
   "metadata": {},
   "outputs": [],
   "source": [
    "# Write a program to enter a number and find the reverse of that number. Also display the double of the reverse number. (don’t use string magic) \n",
    "\n",
    "def reverse(num):\n",
    "    str1 = ''\n",
    "    n = len(num)\n",
    "    for i in range(n-1,-1,-1):\n",
    "        str1 = str1+num[i]\n",
    "    print(str1)\n",
    "    print(2*str1)\n",
    "    print(2*int(str1))\n",
    "num = input()\n",
    "reverse(num)"
   ]
  },
  {
   "cell_type": "code",
   "execution_count": null,
   "metadata": {},
   "outputs": [],
   "source": [
    "# Write a program to find a number is palindrome or not. \n",
    "\n",
    "num = int(input())  \n",
    "temp = num  \n",
    "rev = 0  \n",
    "while(num > 0):  \n",
    "    dig = num % 10  \n",
    "    rev = rev * 10 + dig  \n",
    "    num = num // 10  \n",
    "if(temp == rev):  \n",
    "    print(\"This value is a palindrome number!\")  \n",
    "else:  \n",
    "    print(\"This value is not a palindrome number!\")  "
   ]
  },
  {
   "cell_type": "code",
   "execution_count": null,
   "metadata": {},
   "outputs": [],
   "source": [
    "# Write a program to display all four digit palindromes. \n",
    "\n",
    "lst = []\n",
    "\n",
    "for num in range(1000,10000):\n",
    "    temp = num  \n",
    "    rev = 0  \n",
    "    while(num > 0):  \n",
    "        dig = num % 10  \n",
    "        rev = rev * 10 + dig  \n",
    "        num = num // 10  \n",
    "    if(temp == rev):  \n",
    "        lst.append(temp)\n",
    "        \n",
    "print(lst)"
   ]
  },
  {
   "cell_type": "code",
   "execution_count": null,
   "metadata": {},
   "outputs": [],
   "source": [
    "# Write a program to input a number and count the digits in it. Use while loop and the program should work correctly for 0 also. \n",
    "\n",
    "number = input()\n",
    "count = 0\n",
    "for i in number:\n",
    "    count+=1\n",
    "print(count)"
   ]
  },
  {
   "cell_type": "code",
   "execution_count": null,
   "metadata": {},
   "outputs": [],
   "source": [
    "# Input a number and a digit, and count the number of times the digit occurs in the number.(don’t use count function or string) \n",
    "\n",
    "number = input()\n",
    "digit = input()\n",
    "count = 0\n",
    "\n",
    "for i in number:\n",
    "    if digit == i: count+=1\n",
    "    else: pass\n",
    "print(count)"
   ]
  },
  {
   "cell_type": "code",
   "execution_count": null,
   "metadata": {},
   "outputs": [],
   "source": [
    "# Write a program to accept any number n and print the sum of square of all numbers from 1 to n. \n",
    "\n",
    "number = int(input())\n",
    "lst = []\n",
    "for i in range(1,21):\n",
    "    temp = i**2\n",
    "    lst.append(temp)\n",
    "print(lst)\n",
    "print(sum(lst))"
   ]
  },
  {
   "cell_type": "code",
   "execution_count": null,
   "metadata": {},
   "outputs": [],
   "source": [
    "# Write a program to accept any number n and print the cube of all numbers from 1 to n which are divisible by 3. Rewrite the program using a continue statement. \n",
    "\n",
    "number = int(input())\n",
    "lst = []\n",
    "for i in range(1,21):\n",
    "    temp = i**3\n",
    "    if i%3 == 0: lst.append(temp)\n",
    "    else: pass\n",
    "print(lst)"
   ]
  },
  {
   "cell_type": "code",
   "execution_count": null,
   "metadata": {},
   "outputs": [],
   "source": [
    "# Write a program to find out the value of x raised to the power y, where x and y are positive integers.  \n",
    "\n",
    "def calc(base,power):\n",
    "    if power == 0: return 1\n",
    "    if power == 1: return base\n",
    "    else: return (base * calc(base,power-1))\n",
    "\n",
    "base = int(input())\n",
    "power = int(input())\n",
    "print(calc(base,power))"
   ]
  },
  {
   "cell_type": "code",
   "execution_count": null,
   "metadata": {},
   "outputs": [],
   "source": [
    "# Write a program to read roll number and marks of 10 students in 3 subjects. The valid range for roll number is 1000-9999, if the roll number entered is not in this range, the user should be asked to enter again. Calculate total marks of only those students who get more than or equal to 40 marks in each subject. Count the number of students whose total is more than 200. Print the roll number of the students who gets the highest total. \n",
    "\n",
    "i = 0\n",
    "sum = 0\n",
    "dictionary = {}\n",
    "while i < 3:\n",
    "    while(True):\n",
    "        roll = int(input(\"Roll_No: \"))\n",
    "        if (roll < 1000) or (roll > 9999): \n",
    "            roll = int(input(\"Roll_No: \"))\n",
    "        else: break\n",
    "        \n",
    "    marks1 = int(input(\"Marks1: \"))\n",
    "    marks2 = int(input(\"Marks2: \"))\n",
    "    marks3 = int(input(\"Marks3: \"))\n",
    "    dictionary.update({roll: [marks1, marks1, marks3]})\n",
    "    i+=1\n",
    "\n",
    "\n",
    "for key in dictionary:\n",
    "    for values in dictionary[key]:\n",
    "        if (dictionary[key][0] > 40 and dictionary[key][1] > 40 and dictionary[key][2] > 40):\n",
    "                    if dictionary[key][0]+dictionary[key][0]+dictionary[key][0] > 200:\n",
    "                        print(key, dictionary[key])\n",
    "                        break"
   ]
  }
 ],
 "metadata": {
  "language_info": {
   "name": "python"
  },
  "orig_nbformat": 4
 },
 "nbformat": 4,
 "nbformat_minor": 2
}
