{
 "cells": [
  {
   "cell_type": "code",
   "execution_count": null,
   "metadata": {},
   "outputs": [],
   "source": [
    "#6,7,9,10,12,15"
   ]
  },
  {
   "cell_type": "code",
   "execution_count": null,
   "metadata": {},
   "outputs": [],
   "source": [
    "# Q1\n",
    "\n",
    "tc = int(input())\n",
    "\n",
    "while tc > 0:\n",
    "    solid = int(input())\n",
    "    liquid = int(input())\n",
    "    \n",
    "    if solid == 0: print(\"Liquid\")\n",
    "    elif liquid == 0: print(\"Solid\")\n",
    "    elif solid > liquid: print(\"Solution\")\n",
    "    tc-=1"
   ]
  },
  {
   "cell_type": "code",
   "execution_count": null,
   "metadata": {},
   "outputs": [],
   "source": [
    "# Q2\n",
    "\n",
    "tc = int(input())\n",
    "\n",
    "while tc > 0:\n",
    "    a,b,c,d = map(int,input().split())\n",
    "\n",
    "    if a+b+c<=d: print(1)\n",
    "    elif a+b<=d: print(2)\n",
    "    elif a+c<=d: print(2)\n",
    "    else: print(3)\n",
    "\n",
    "    tc-=1"
   ]
  },
  {
   "cell_type": "code",
   "execution_count": null,
   "metadata": {},
   "outputs": [],
   "source": [
    "# Q3\n",
    "\n",
    "tc = int(input())\n",
    "\n",
    "while tc > 0:\n",
    "    a0,b0,a1,b1,a2,b2 = map(int,input().split())\n",
    "\n",
    "    if(a0==a1 and b0==b1) or (a0==b1 and b0==a1): print(1)\n",
    "    elif(a0==a2 and b0==b2) or (a0==b2 and b0==a2): print(2)\n",
    "    else: print(0)\n",
    "    tc-=1"
   ]
  },
  {
   "cell_type": "code",
   "execution_count": null,
   "metadata": {},
   "outputs": [],
   "source": [
    "# Q4\n",
    "\n",
    "tc = int(input())\n",
    "while tc > 0:\n",
    "    count = 0\n",
    "    n = int(input())\n",
    "    if(n%4 ==0 or (n+1)%4 == 0):\n",
    "        print(n)\n",
    "    else:\n",
    "        print(n-1)\n",
    "   \n",
    "    tc-=1"
   ]
  },
  {
   "cell_type": "code",
   "execution_count": null,
   "metadata": {},
   "outputs": [],
   "source": [
    "# Q5\n",
    "\n",
    "tc = int(input())\n",
    "while tc > 0:\n",
    "    n = int(input())\n",
    "    if n >= 2000: print(1)\n",
    "    if (n >= 1600) and (n < 2000): print(2)\n",
    "    if n < 1600: print(3)\n",
    "    tc-=1"
   ]
  },
  {
   "cell_type": "code",
   "execution_count": null,
   "metadata": {},
   "outputs": [],
   "source": [
    "# Q16\n",
    "\n",
    "import math\n",
    "tc = int(input())\n",
    "\n",
    "while tc > 0:\n",
    "    x,y = map(int,input().split())\n",
    "    op = 0\n",
    "    if x%2==0 and y%2==0: op = 0\n",
    "    elif math.gcd(x+1,y)>1 or math.gcd(x,y+1): op = 1\n",
    "    else: op = 2\n",
    "    print(op)\n",
    "    tc-=1"
   ]
  },
  {
   "cell_type": "code",
   "execution_count": null,
   "metadata": {},
   "outputs": [],
   "source": [
    "tc = int(input())\n",
    "while tc > 0:\n",
    "    n = int(input())\n",
    "    arr = []\n",
    "    for i in range(0,n):\n",
    "        arr.append(int(input()))\n",
    "    arr.sort()\n",
    "    set1 = set(arr)\n",
    "    print(set1)\n",
    "    tc-=1"
   ]
  },
  {
   "cell_type": "code",
   "execution_count": null,
   "metadata": {},
   "outputs": [],
   "source": [
    "# Q8\n",
    "\n",
    "n = int(input())\n",
    "black = ((n//2)**2)*2\n",
    "print(black)"
   ]
  },
  {
   "cell_type": "code",
   "execution_count": null,
   "metadata": {},
   "outputs": [],
   "source": [
    "# Q11\n",
    "\n",
    "tc = int(input())\n",
    "while tc > 0:\n",
    "    a,b,c,d,e,f = map(int,input().split())\n",
    "    if a+b+c > d+e+f:\n",
    "        print(1)\n",
    "    else: print(2)\n",
    "    tc-=1"
   ]
  },
  {
   "cell_type": "code",
   "execution_count": null,
   "metadata": {},
   "outputs": [],
   "source": [
    "# Q14\n",
    "\n",
    "tc = int(input())\n",
    "while tc > 0:\n",
    "    w = 0\n",
    "    n,d,h = map(int,input().split())\n",
    "    lst = list(map(int,input().split()))\n",
    "    i = 0\n",
    "    while i < len(lst):\n",
    "        if lst[i] > 0: w = w + lst[i]\n",
    "        if lst[i] == 0: \n",
    "            if w < d: w = 0\n",
    "            else: w = w - d\n",
    "        i+=1\n",
    "    if w <= h: print(\"NO\")\n",
    "    else: print(\"YES\")\n",
    "    tc-=1"
   ]
  },
  {
   "cell_type": "code",
   "execution_count": null,
   "metadata": {},
   "outputs": [],
   "source": [
    "T = int(input())\n",
    "for i in range(T):\n",
    "    l = list(map(int, input().split()))\n",
    "    a = set(l)\n",
    "    if (len(a) == 4):\n",
    "        print(2)\n",
    "    elif (len(a) == 3):\n",
    "        print(2)\n",
    "    elif (len(a) == 2):\n",
    "        l.sort()\n",
    "        b = l[0]\n",
    "        if(l.count(b) == 2):\n",
    "            print(2)\n",
    "        else:\n",
    "            print(1)\n",
    "    else:\n",
    "        print(0)"
   ]
  },
  {
   "cell_type": "code",
   "execution_count": null,
   "metadata": {},
   "outputs": [],
   "source": [
    "# tc = int(input())\n",
    "# sum=[]\n",
    "# while tc > 0:\n",
    "#     abc = list(map(int,input().split()))\n",
    "#     for i in range(0,len(abc)):\n",
    "#         sum.append(abc[i]+abc[i+1])\n",
    "#     sum.append(abc[0]+abc[len(abc)-1])\n",
    "#     tc-=1\n",
    "\n",
    "\n",
    "# 4\n",
    "# 4 2 6\n",
    "# 1 3 0 2"
   ]
  },
  {
   "cell_type": "code",
   "execution_count": null,
   "metadata": {},
   "outputs": [],
   "source": [
    "tc = int(input())\n",
    "\n",
    "while tc > 0:\n",
    "    a,b,c = map(int,input().split())\n",
    "    if (a+b+c == 1 or a+b+c == 2): print(\"1\") \n",
    "    else: print(\"0\")\n",
    "    tc-=1"
   ]
  }
 ],
 "metadata": {
  "interpreter": {
   "hash": "f23faf4bfe871c203c8bec80520af5927fc7cb1ae3bd834ddf554ee587ad1c05"
  },
  "kernelspec": {
   "display_name": "Python 3.8.7 64-bit",
   "language": "python",
   "name": "python3"
  },
  "language_info": {
   "codemirror_mode": {
    "name": "ipython",
    "version": 3
   },
   "file_extension": ".py",
   "mimetype": "text/x-python",
   "name": "python",
   "nbconvert_exporter": "python",
   "pygments_lexer": "ipython3",
   "version": "3.8.7"
  },
  "orig_nbformat": 4
 },
 "nbformat": 4,
 "nbformat_minor": 2
}
