{
 "cells": [
  {
   "cell_type": "code",
   "execution_count": null,
   "metadata": {},
   "outputs": [],
   "source": [
    "########################ASSIGNMENT8########################################"
   ]
  },
  {
   "cell_type": "code",
   "execution_count": null,
   "metadata": {},
   "outputs": [],
   "source": [
    "print(\"Q1. What are the two values of the Boolean data type? How do you write them?\")\n",
    "print(\"Ans. The two values of boolean are True and False. There are two Boolean values: True and False. Values in Python can be compared using comparison operations, and Boolean logic can be formulated with the use of logic operations\")"
   ]
  },
  {
   "cell_type": "code",
   "execution_count": null,
   "metadata": {},
   "outputs": [],
   "source": [
    "print(\"Q2. What are the three Boolean operators?\")\n",
    "print(\"Ans. There are three basic Boolean search commands: AND, OR and NOT. AND searches find all of the search terms. For example, searching on dengue AND malaria AND zika returns only results that contain all three search terms\")"
   ]
  },
  {
   "cell_type": "code",
   "execution_count": null,
   "metadata": {},
   "outputs": [],
   "source": [
    "print(\"Q3. Write out the truth tables of each Boolean operator (that is, every possible combination of Boolean values for the operator and what they evaluate to).\")\n",
    "# True\tand\tTrue\tTrue\n",
    "# True\tand\tFalse\tFalse\n",
    "# False\tand\tTrue\tFalse\n",
    "# False\tand\tFalse\tFalse\n",
    "print(\"**********************************************\")\n",
    "# True\tor\tTrue\tTrue\n",
    "# True\tor\tFalse\tTrue\n",
    "# False\tor\tTrue\tTrue\n",
    "# False\tor\tFalse\tFalse\n",
    "print(\"**********************************************\")\n",
    "# not\tTrue\tFalse\n",
    "# not\tFalse\tTrue"
   ]
  },
  {
   "cell_type": "code",
   "execution_count": null,
   "metadata": {},
   "outputs": [],
   "source": [
    "print(\"Q4. What are the six comparison operators?\")\n",
    "print(\"Ans. Comparison operators — operators that compare values and return true or false . The operators include: > , < , >= , <= , === , and !==\")"
   ]
  },
  {
   "cell_type": "code",
   "execution_count": null,
   "metadata": {},
   "outputs": [],
   "source": [
    "print(\"Q5. What is the difference between the equal to operator and the assignment operator?\")\n",
    "print(\"Ans. The '=' is the so-called assignment operator and is used to assign the result of the expression on the right side of the operator to the variable on the left side. The '==' is the so-called equality comparison operator and is used to check whether the two expressions on both sides are equal or not.\")"
   ]
  },
  {
   "cell_type": "code",
   "execution_count": null,
   "metadata": {},
   "outputs": [],
   "source": [
    "print(\"Q6. Explain what a condition is and where you would use one.\")\n",
    "print(\"Ans. Conditions in Python or Conditional statements are used to perform decision making challenges. ... This statement is use to check whether the condition is true or not, if the condition is true then the code is executed.\")"
   ]
  },
  {
   "cell_type": "code",
   "execution_count": null,
   "metadata": {},
   "outputs": [],
   "source": [
    "print((5 > 4) and (3 == 5)) \n",
    "\n",
    "print(not (5 > 4)) \n",
    "\n",
    "print((5 > 4) or (3 == 5)) \n",
    "\n",
    "print(not ((5 > 4) or (3 == 5))) \n",
    "\n",
    "print((True and True) and (True == False))\n",
    "\n",
    "print((not False) or (not True))"
   ]
  }
 ],
 "metadata": {
  "interpreter": {
   "hash": "f23faf4bfe871c203c8bec80520af5927fc7cb1ae3bd834ddf554ee587ad1c05"
  },
  "kernelspec": {
   "display_name": "Python 3.8.7 64-bit",
   "language": "python",
   "name": "python3"
  },
  "language_info": {
   "codemirror_mode": {
    "name": "ipython",
    "version": 3
   },
   "file_extension": ".py",
   "mimetype": "text/x-python",
   "name": "python",
   "nbconvert_exporter": "python",
   "pygments_lexer": "ipython3",
   "version": "3.8.7"
  },
  "orig_nbformat": 4
 },
 "nbformat": 4,
 "nbformat_minor": 2
}
